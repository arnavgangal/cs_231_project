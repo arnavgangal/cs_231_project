{
 "cells": [
  {
   "cell_type": "code",
   "execution_count": 1,
   "id": "0ccf9f34",
   "metadata": {
    "ExecuteTime": {
     "end_time": "2024-06-01T17:18:15.878524Z",
     "start_time": "2024-06-01T17:18:05.230568Z"
    }
   },
   "outputs": [],
   "source": [
    "# Imports for Dataset class\n",
    "import os\n",
    "from PIL import Image\n",
    "import torch\n",
    "from torch.utils.data import Dataset\n",
    "from torchvision import transforms\n",
    "\n",
    "# Imports for dataloader\n",
    "from torch.utils.data import DataLoader\n",
    "\n",
    "# Imports for CNN\n",
    "import torch\n",
    "import torch.nn as nn\n",
    "import torch.optim as optim\n",
    "import torch.nn.functional as F\n",
    "from tqdm import tqdm\n",
    "\n",
    "# Imports for plotting\n",
    "import matplotlib.pyplot as plt\n",
    "from sklearn.metrics import confusion_matrix, ConfusionMatrixDisplay\n",
    "import numpy as np"
   ]
  },
  {
   "cell_type": "code",
   "execution_count": 2,
   "id": "ccfbce4a",
   "metadata": {
    "ExecuteTime": {
     "end_time": "2024-06-01T17:18:15.921540Z",
     "start_time": "2024-06-01T17:18:15.918207Z"
    }
   },
   "outputs": [
    {
     "name": "stdout",
     "output_type": "stream",
     "text": [
      "Using device: mps\n"
     ]
    }
   ],
   "source": [
    "if torch.backends.mps.is_available():\n",
    "    device = torch.device(\"mps\")\n",
    "else:\n",
    "    device = torch.device(\"cpu\")\n",
    "\n",
    "print(f\"Using device: {device}\")"
   ]
  },
  {
   "cell_type": "code",
   "execution_count": 3,
   "id": "79982a4e",
   "metadata": {
    "ExecuteTime": {
     "end_time": "2024-06-01T17:18:16.118290Z",
     "start_time": "2024-06-01T17:18:15.922067Z"
    }
   },
   "outputs": [],
   "source": [
    "class ASLDataset(Dataset):\n",
    "    def __init__(self, root_dir, transform=None):\n",
    "        \"\"\"\n",
    "        Args:\n",
    "            root_dir (str): Directory with all the images.\n",
    "            transform (callable, optional): Optional transform to be applied\n",
    "                                            on a sample.\n",
    "        \"\"\"\n",
    "        self.root_dir = root_dir\n",
    "        self.transform = transform\n",
    "        self.image_paths = []\n",
    "        self.labels = []\n",
    "        self.label_mapping = {}  # Mapping from original labels to continuous range\n",
    "\n",
    "        # Collect all image paths and labels\n",
    "        for filename in os.listdir(root_dir):\n",
    "            if filename.startswith('color_'):\n",
    "                # Extract label from filename\n",
    "                parts = filename.split('_')\n",
    "                label = int(parts[1])  # Assuming the label is the second part of the filename\n",
    "                self.image_paths.append(os.path.join(root_dir, filename))\n",
    "                self.labels.append(label)\n",
    "\n",
    "        # Create a continuous label mapping\n",
    "        unique_labels = sorted(set(self.labels))\n",
    "        self.label_mapping = {label: idx for idx, label in enumerate(unique_labels)}\n",
    "        self.labels = [self.label_mapping[label] for label in self.labels]\n",
    "\n",
    "    def __len__(self):\n",
    "        return len(self.image_paths)\n",
    "\n",
    "    def __getitem__(self, idx):\n",
    "        if torch.is_tensor(idx):\n",
    "            idx = idx.tolist()\n",
    "\n",
    "        img_path = self.image_paths[idx]\n",
    "        image = Image.open(img_path).convert('L')  # Ensure image is in grayscale\n",
    "        label = self.labels[idx]\n",
    "\n",
    "        if self.transform:\n",
    "            image = self.transform(image)\n",
    "\n",
    "        return image, label\n",
    "\n",
    "\n",
    "root_dir = 'dataset5_50x50_split/'\n",
    "transform = transforms.Compose([\n",
    "    transforms.ToTensor(),  # Convert image to tensor\n",
    "    transforms.Normalize((0.5,), (0.5,))  # Normalize to [-1, 1] range for grayscale\n",
    "])\n",
    "\n",
    "# Create dataset instances\n",
    "train_dataset = ASLDataset(root_dir=os.path.join(root_dir, 'train'), transform=transform)\n",
    "val_dataset = ASLDataset(root_dir=os.path.join(root_dir, 'val'), transform=transform)\n",
    "test_dataset = ASLDataset(root_dir=os.path.join(root_dir, 'test'), transform=transform)\n"
   ]
  },
  {
   "cell_type": "code",
   "execution_count": 4,
   "id": "ed5157d1",
   "metadata": {
    "ExecuteTime": {
     "end_time": "2024-06-01T17:18:16.126495Z",
     "start_time": "2024-06-01T17:18:16.119799Z"
    }
   },
   "outputs": [],
   "source": [
    "# Create DataLoader instances\n",
    "train_loader = DataLoader(train_dataset, batch_size=32, shuffle=True)\n",
    "val_loader = DataLoader(val_dataset, batch_size=32, shuffle=False)\n",
    "test_loader = DataLoader(test_dataset, batch_size=32, shuffle=False)"
   ]
  },
  {
   "cell_type": "code",
   "execution_count": 5,
   "id": "2db6c03b",
   "metadata": {
    "ExecuteTime": {
     "end_time": "2024-06-01T17:18:16.135726Z",
     "start_time": "2024-06-01T17:18:16.132353Z"
    }
   },
   "outputs": [],
   "source": [
    "# Class for CNN following paper 1 architecture\n",
    "class PaperCNN(nn.Module):\n",
    "    def __init__(self, num_classes=24, p_dropout = 0.3):\n",
    "        super(PaperCNN, self).__init__()\n",
    "        self.conv1 = nn.Conv2d(1, 64, kernel_size=3, padding=1)\n",
    "        self.bn1 = nn.BatchNorm2d(64)\n",
    "        self.dropout1 = nn.Dropout2d(p_dropout)\n",
    "        \n",
    "        self.conv2 = nn.Conv2d(64, 128, kernel_size=3, padding=1)\n",
    "        self.bn2 = nn.BatchNorm2d(128)\n",
    "        self.dropout2 = nn.Dropout2d(p_dropout)\n",
    "        \n",
    "        self.pool = nn.MaxPool2d(kernel_size=2, stride=2)\n",
    "        \n",
    "        self.conv3 = nn.Conv2d(128, 512, kernel_size=3, padding=1)\n",
    "        self.bn3 = nn.BatchNorm2d(512)\n",
    "        self.dropout3 = nn.Dropout2d(0.3)\n",
    "        \n",
    "        self.conv4 = nn.Conv2d(512, 64, kernel_size=3, padding=1)\n",
    "        self.bn4 = nn.BatchNorm2d(64)\n",
    "        self.dropout4 = nn.Dropout2d(p_dropout)\n",
    "        \n",
    "        self.conv5 = nn.Conv2d(64, 32, kernel_size=3, padding=1)\n",
    "        self.bn5 = nn.BatchNorm2d(32)\n",
    "        self.dropout5 = nn.Dropout2d(p_dropout)\n",
    "        \n",
    "        self.fc1 = nn.Linear(32 * 3 * 3, 512)\n",
    "        self.dropout_fc1 = nn.Dropout(p_dropout)\n",
    "        \n",
    "        self.fc2 = nn.Linear(512, num_classes)\n",
    "        \n",
    "    def forward(self, x):\n",
    "        # convrelu - dropout - bn\n",
    "        x = self.bn1(self.dropout1(F.relu(self.conv1(x))))\n",
    "#         print(f\"Shape after conv1 + relu + dropout + bn1: {x.shape}\")\n",
    "        \n",
    "        x = self.bn2(self.dropout2(F.relu(self.conv2(x))))\n",
    "#         print(f\"Shape after conv2 + relu + dropout + bn2: {x.shape}\")\n",
    "        x = self.pool(x)\n",
    "#         print(f\"Shape after pool: {x.shape}\")\n",
    "        \n",
    "        x = self.bn3(self.dropout3(F.relu(self.conv3(x))))\n",
    "#         print(f\"Shape after conv3 + relu + dropout + bn3: {x.shape}\")\n",
    "        x = self.pool(x)\n",
    "#         print(f\"Shape after pool: {x.shape}\")\n",
    "        \n",
    "        x = self.bn4(self.dropout4(F.relu(self.conv4(x))))\n",
    "#         print(f\"Shape after conv4 + relu + dropout + bn4: {x.shape}\")\n",
    "        x = self.pool(x)\n",
    "#         print(f\"Shape after pool: {x.shape}\")\n",
    "        \n",
    "        x = self.bn5(self.dropout5(F.relu(self.conv5(x))))\n",
    "#         print(f\"Shape after conv5 + relu + dropout + bn4: {x.shape}\")\n",
    "        x = self.pool(x)\n",
    "#         print(f\"Shape after pool: {x.shape}\")\n",
    "        \n",
    "        x = x.view(-1, 32 * 3 * 3)  # Flatten the output of the last conv layer\n",
    "#         print(f\"Shape after view: {x.shape}\")\n",
    "        \n",
    "        x = self.dropout_fc1(F.relu(self.fc1(x)))\n",
    "        x = self.fc2(x)\n",
    "        \n",
    "        return x"
   ]
  },
  {
   "cell_type": "code",
   "execution_count": 6,
   "id": "8a981152",
   "metadata": {
    "ExecuteTime": {
     "end_time": "2024-06-01T17:18:16.149399Z",
     "start_time": "2024-06-01T17:18:16.137990Z"
    }
   },
   "outputs": [],
   "source": [
    "# Function to infer number of classes\n",
    "def get_num_classes(dataset):\n",
    "    \"\"\"\n",
    "    Get the number of unique classes in the dataset.\n",
    "\n",
    "    Args:\n",
    "        dataset (Dataset): The dataset to analyze.\n",
    "\n",
    "    Returns:\n",
    "        int: The number of unique classes.\n",
    "    \"\"\"\n",
    "    unique_labels = set()\n",
    "    for _, label in dataset:\n",
    "        unique_labels.add(label)\n",
    "    return len(unique_labels)"
   ]
  },
  {
   "cell_type": "code",
   "execution_count": null,
   "id": "966aa6c9",
   "metadata": {
    "is_executing": true,
    "ExecuteTime": {
     "start_time": "2024-05-31T21:57:44.004958Z"
    }
   },
   "outputs": [
    {
     "name": "stderr",
     "output_type": "stream",
     "text": [
      "Epoch 1/10: 100%|██████████| 1439/1439 [02:18<00:00, 10.37batch/s, loss=1.16]\n",
      "Epoch 2/10: 100%|██████████| 1439/1439 [02:27<00:00,  9.73batch/s, loss=0.289]\n",
      "Epoch 3/10: 100%|██████████| 1439/1439 [02:52<00:00,  8.32batch/s, loss=0.155]\n",
      "Epoch 4/10: 100%|██████████| 1439/1439 [02:56<00:00,  8.13batch/s, loss=0.1]   \n",
      "Epoch 5/10: 100%|██████████| 1439/1439 [02:59<00:00,  8.03batch/s, loss=0.073] \n",
      "Epoch 6/10: 100%|██████████| 1439/1439 [03:02<00:00,  7.87batch/s, loss=0.0567]\n",
      "Epoch 7/10: 100%|██████████| 1439/1439 [03:11<00:00,  7.51batch/s, loss=0.0476]\n",
      "Epoch 8/10: 100%|██████████| 1439/1439 [03:17<00:00,  7.30batch/s, loss=0.0382]\n",
      "Epoch 9/10: 100%|██████████| 1439/1439 [03:06<00:00,  7.71batch/s, loss=0.0274]\n",
      "Epoch 10/10: 100%|██████████| 1439/1439 [03:06<00:00,  7.72batch/s, loss=0.0312]\n"
     ]
    },
    {
     "name": "stdout",
     "output_type": "stream",
     "text": [
      "Dropout: 0.1, LR: 0.0001, Validation Loss: 0.01621346259610215, Validation Accuracy: 99.44252990066896%\n",
      "Training complete\n"
     ]
    },
    {
     "name": "stderr",
     "output_type": "stream",
     "text": [
      "Epoch 1/10: 100%|██████████| 1439/1439 [03:03<00:00,  7.86batch/s, loss=0.572]\n",
      "Epoch 2/10: 100%|██████████| 1439/1439 [02:55<00:00,  8.21batch/s, loss=0.125] \n",
      "Epoch 3/10: 100%|██████████| 1439/1439 [02:58<00:00,  8.07batch/s, loss=0.0756]\n",
      "Epoch 4/10: 100%|██████████| 1439/1439 [03:06<00:00,  7.72batch/s, loss=0.0545]\n",
      "Epoch 5/10: 100%|██████████| 1439/1439 [03:01<00:00,  7.92batch/s, loss=0.0447]\n",
      "Epoch 6/10: 100%|██████████| 1439/1439 [02:53<00:00,  8.30batch/s, loss=0.0364]\n",
      "Epoch 7/10: 100%|██████████| 1439/1439 [02:57<00:00,  8.11batch/s, loss=0.0307]\n",
      "Epoch 8/10: 100%|██████████| 1439/1439 [02:57<00:00,  8.10batch/s, loss=0.0269]\n",
      "Epoch 9/10: 100%|██████████| 1439/1439 [03:31<00:00,  6.80batch/s, loss=0.0256]\n",
      "Epoch 10/10: 100%|██████████| 1439/1439 [03:26<00:00,  6.96batch/s, loss=0.0221]\n"
     ]
    },
    {
     "name": "stdout",
     "output_type": "stream",
     "text": [
      "Dropout: 0.1, LR: 0.0005, Validation Loss: 0.017602893635198538, Validation Accuracy: 99.49320900060815%\n",
      "Training complete\n"
     ]
    },
    {
     "name": "stderr",
     "output_type": "stream",
     "text": [
      "Epoch 1/10: 100%|██████████| 1439/1439 [03:27<00:00,  6.93batch/s, loss=0.509]\n",
      "Epoch 2/10: 100%|██████████| 1439/1439 [03:26<00:00,  6.96batch/s, loss=0.119] \n",
      "Epoch 3/10: 100%|██████████| 1439/1439 [03:30<00:00,  6.84batch/s, loss=0.073] \n",
      "Epoch 4/10: 100%|██████████| 1439/1439 [03:34<00:00,  6.70batch/s, loss=0.0631]\n",
      "Epoch 5/10: 100%|██████████| 1439/1439 [03:24<00:00,  7.05batch/s, loss=0.0533]\n",
      "Epoch 6/10: 100%|██████████| 1439/1439 [03:44<00:00,  6.41batch/s, loss=0.041] \n",
      "Epoch 7/10: 100%|██████████| 1439/1439 [03:55<00:00,  6.12batch/s, loss=0.0418]\n",
      "Epoch 8/10: 100%|██████████| 1439/1439 [03:43<00:00,  6.44batch/s, loss=0.0357]\n",
      "Epoch 9/10: 100%|██████████| 1439/1439 [03:53<00:00,  6.17batch/s, loss=0.0321]\n",
      "Epoch 10/10: 100%|██████████| 1439/1439 [03:37<00:00,  6.62batch/s, loss=0.0296]\n"
     ]
    },
    {
     "name": "stdout",
     "output_type": "stream",
     "text": [
      "Dropout: 0.1, LR: 0.001, Validation Loss: 0.02140147427868964, Validation Accuracy: 99.41212244070546%\n",
      "Training complete\n"
     ]
    },
    {
     "name": "stderr",
     "output_type": "stream",
     "text": [
      "Epoch 1/10: 100%|██████████| 1439/1439 [03:40<00:00,  6.53batch/s, loss=0.605]\n",
      "Epoch 2/10: 100%|██████████| 1439/1439 [03:44<00:00,  6.40batch/s, loss=0.176]\n",
      "Epoch 3/10: 100%|██████████| 1439/1439 [03:41<00:00,  6.51batch/s, loss=0.116] \n",
      "Epoch 4/10: 100%|██████████| 1439/1439 [03:24<00:00,  7.05batch/s, loss=0.0974]\n",
      "Epoch 5/10: 100%|██████████| 1439/1439 [03:42<00:00,  6.47batch/s, loss=0.0824]\n",
      "Epoch 6/10: 100%|██████████| 1439/1439 [03:36<00:00,  6.64batch/s, loss=0.071] \n",
      "Epoch 7/10: 100%|██████████| 1439/1439 [04:44<00:00,  5.06batch/s, loss=0.0664]\n",
      "Epoch 8/10: 100%|██████████| 1439/1439 [05:01<00:00,  4.78batch/s, loss=0.0601]\n",
      "Epoch 9/10: 100%|██████████| 1439/1439 [04:10<00:00,  5.73batch/s, loss=0.0563]\n",
      "Epoch 10/10: 100%|██████████| 1439/1439 [03:17<00:00,  7.28batch/s, loss=0.0587]\n"
     ]
    },
    {
     "name": "stdout",
     "output_type": "stream",
     "text": [
      "Dropout: 0.1, LR: 0.005, Validation Loss: 0.022899432797216894, Validation Accuracy: 99.24994932090006%\n",
      "Training complete\n"
     ]
    },
    {
     "name": "stderr",
     "output_type": "stream",
     "text": [
      "Epoch 1/10: 100%|██████████| 1439/1439 [03:16<00:00,  7.31batch/s, loss=0.796]\n",
      "Epoch 2/10: 100%|██████████| 1439/1439 [03:41<00:00,  6.49batch/s, loss=0.265]\n",
      "Epoch 3/10: 100%|██████████| 1439/1439 [03:35<00:00,  6.66batch/s, loss=0.209]\n",
      "Epoch 4/10: 100%|██████████| 1439/1439 [03:35<00:00,  6.67batch/s, loss=0.187] \n",
      "Epoch 5/10: 100%|██████████| 1439/1439 [03:32<00:00,  6.76batch/s, loss=0.165] \n",
      "Epoch 6/10: 100%|██████████| 1439/1439 [03:34<00:00,  6.72batch/s, loss=0.156] \n",
      "Epoch 7/10: 100%|██████████| 1439/1439 [03:25<00:00,  7.00batch/s, loss=0.156]\n",
      "Epoch 8/10: 100%|██████████| 1439/1439 [03:15<00:00,  7.35batch/s, loss=0.145]\n",
      "Epoch 9/10: 100%|██████████| 1439/1439 [03:26<00:00,  6.98batch/s, loss=0.145] \n",
      "Epoch 10/10: 100%|██████████| 1439/1439 [03:39<00:00,  6.55batch/s, loss=0.134] \n"
     ]
    },
    {
     "name": "stdout",
     "output_type": "stream",
     "text": [
      "Dropout: 0.1, LR: 0.01, Validation Loss: 0.04520075789433101, Validation Accuracy: 98.8242448814109%\n",
      "Training complete\n"
     ]
    },
    {
     "name": "stderr",
     "output_type": "stream",
     "text": [
      "Epoch 1/10: 100%|██████████| 1439/1439 [03:44<00:00,  6.42batch/s, loss=1.59]\n",
      "Epoch 2/10: 100%|██████████| 1439/1439 [03:53<00:00,  6.16batch/s, loss=0.527]\n",
      "Epoch 3/10: 100%|██████████| 1439/1439 [03:41<00:00,  6.49batch/s, loss=0.312]\n",
      "Epoch 4/10: 100%|██████████| 1439/1439 [04:05<00:00,  5.85batch/s, loss=0.217]\n",
      "Epoch 5/10: 100%|██████████| 1439/1439 [03:50<00:00,  6.25batch/s, loss=0.166]\n",
      "Epoch 6/10: 100%|██████████| 1439/1439 [03:27<00:00,  6.92batch/s, loss=0.133] \n",
      "Epoch 7/10: 100%|██████████| 1439/1439 [03:42<00:00,  6.48batch/s, loss=0.111] \n",
      "Epoch 8/10: 100%|██████████| 1439/1439 [03:44<00:00,  6.41batch/s, loss=0.0915]\n",
      "Epoch 9/10: 100%|██████████| 1439/1439 [03:51<00:00,  6.22batch/s, loss=0.0765]\n",
      "Epoch 10/10: 100%|██████████| 1439/1439 [03:48<00:00,  6.29batch/s, loss=0.0694]\n"
     ]
    },
    {
     "name": "stdout",
     "output_type": "stream",
     "text": [
      "Dropout: 0.2, LR: 0.0001, Validation Loss: 0.022877586364835008, Validation Accuracy: 99.40198662071762%\n",
      "Training complete\n"
     ]
    },
    {
     "name": "stderr",
     "output_type": "stream",
     "text": [
      "Epoch 1/10: 100%|██████████| 1439/1439 [03:53<00:00,  6.16batch/s, loss=0.808]\n",
      "Epoch 2/10: 100%|██████████| 1439/1439 [03:50<00:00,  6.25batch/s, loss=0.23] \n",
      "Epoch 3/10: 100%|██████████| 1439/1439 [03:41<00:00,  6.50batch/s, loss=0.137] \n",
      "Epoch 4/10: 100%|██████████| 1439/1439 [03:44<00:00,  6.42batch/s, loss=0.105] \n",
      "Epoch 5/10: 100%|██████████| 1439/1439 [03:41<00:00,  6.50batch/s, loss=0.0845]\n",
      "Epoch 6/10: 100%|██████████| 1439/1439 [03:21<00:00,  7.15batch/s, loss=0.0653]\n",
      "Epoch 7/10: 100%|██████████| 1439/1439 [03:48<00:00,  6.29batch/s, loss=0.059] \n",
      "Epoch 8/10: 100%|██████████| 1439/1439 [03:41<00:00,  6.49batch/s, loss=0.0541]\n",
      "Epoch 9/10: 100%|██████████| 1439/1439 [03:42<00:00,  6.48batch/s, loss=0.0473]\n",
      "Epoch 10/10: 100%|██████████| 1439/1439 [03:45<00:00,  6.40batch/s, loss=0.0409]\n"
     ]
    },
    {
     "name": "stdout",
     "output_type": "stream",
     "text": [
      "Dropout: 0.2, LR: 0.0005, Validation Loss: 0.016107218583195165, Validation Accuracy: 99.62497466045004%\n",
      "Training complete\n"
     ]
    },
    {
     "name": "stderr",
     "output_type": "stream",
     "text": [
      "Epoch 1/10: 100%|██████████| 1439/1439 [03:37<00:00,  6.60batch/s, loss=0.694]\n",
      "Epoch 2/10: 100%|██████████| 1439/1439 [03:42<00:00,  6.48batch/s, loss=0.203]\n",
      "Epoch 3/10: 100%|██████████| 1439/1439 [03:41<00:00,  6.48batch/s, loss=0.133] \n",
      "Epoch 4/10: 100%|██████████| 1439/1439 [03:45<00:00,  6.39batch/s, loss=0.108] \n",
      "Epoch 5/10: 100%|██████████| 1439/1439 [03:45<00:00,  6.37batch/s, loss=0.088] \n",
      "Epoch 6/10: 100%|██████████| 1439/1439 [03:46<00:00,  6.36batch/s, loss=0.0762]\n",
      "Epoch 7/10: 100%|██████████| 1439/1439 [03:45<00:00,  6.38batch/s, loss=0.0667]\n",
      "Epoch 8/10: 100%|██████████| 1439/1439 [03:46<00:00,  6.37batch/s, loss=0.0588]\n",
      "Epoch 9/10: 100%|██████████| 1439/1439 [03:49<00:00,  6.27batch/s, loss=0.054] \n",
      "Epoch 10/10: 100%|██████████| 1439/1439 [03:51<00:00,  6.22batch/s, loss=0.053] \n"
     ]
    },
    {
     "name": "stdout",
     "output_type": "stream",
     "text": [
      "Dropout: 0.2, LR: 0.001, Validation Loss: 0.014715108135195755, Validation Accuracy: 99.6148388404622%\n",
      "Training complete\n"
     ]
    },
    {
     "name": "stderr",
     "output_type": "stream",
     "text": [
      "Epoch 1/10: 100%|██████████| 1439/1439 [04:21<00:00,  5.50batch/s, loss=0.813]\n",
      "Epoch 2/10: 100%|██████████| 1439/1439 [04:17<00:00,  5.58batch/s, loss=0.277]\n",
      "Epoch 3/10: 100%|██████████| 1439/1439 [04:03<00:00,  5.91batch/s, loss=0.193]\n",
      "Epoch 4/10: 100%|██████████| 1439/1439 [04:07<00:00,  5.82batch/s, loss=0.156]\n",
      "Epoch 5/10: 100%|██████████| 1439/1439 [04:20<00:00,  5.53batch/s, loss=0.134] \n",
      "Epoch 6/10: 100%|██████████| 1439/1439 [04:25<00:00,  5.41batch/s, loss=0.119] \n",
      "Epoch 7/10: 100%|██████████| 1439/1439 [04:10<00:00,  5.75batch/s, loss=0.11]  \n",
      "Epoch 8/10: 100%|██████████| 1439/1439 [03:48<00:00,  6.29batch/s, loss=0.1]   \n",
      "Epoch 9/10: 100%|██████████| 1439/1439 [03:45<00:00,  6.39batch/s, loss=0.0955]\n",
      "Epoch 10/10: 100%|██████████| 1439/1439 [03:31<00:00,  6.79batch/s, loss=0.0913]\n"
     ]
    },
    {
     "name": "stdout",
     "output_type": "stream",
     "text": [
      "Dropout: 0.2, LR: 0.005, Validation Loss: 0.027726741982543993, Validation Accuracy: 99.16886276099737%\n",
      "Training complete\n"
     ]
    },
    {
     "name": "stderr",
     "output_type": "stream",
     "text": [
      "Epoch 1/10: 100%|██████████| 1439/1439 [04:06<00:00,  5.83batch/s, loss=0.999]\n",
      "Epoch 2/10: 100%|██████████| 1439/1439 [03:43<00:00,  6.43batch/s, loss=0.423]\n",
      "Epoch 3/10: 100%|██████████| 1439/1439 [03:40<00:00,  6.53batch/s, loss=0.319]\n",
      "Epoch 4/10: 100%|██████████| 1439/1439 [03:49<00:00,  6.27batch/s, loss=0.286]\n",
      "Epoch 5/10: 100%|██████████| 1439/1439 [03:39<00:00,  6.56batch/s, loss=0.257]\n",
      "Epoch 6/10: 100%|██████████| 1439/1439 [03:41<00:00,  6.49batch/s, loss=0.248]\n",
      "Epoch 7/10: 100%|██████████| 1439/1439 [03:45<00:00,  6.38batch/s, loss=0.232]\n",
      "Epoch 8/10: 100%|██████████| 1439/1439 [03:39<00:00,  6.54batch/s, loss=0.221]\n",
      "Epoch 9/10: 100%|██████████| 1439/1439 [03:40<00:00,  6.51batch/s, loss=0.221]\n",
      "Epoch 10/10: 100%|██████████| 1439/1439 [03:49<00:00,  6.28batch/s, loss=0.2]  \n"
     ]
    },
    {
     "name": "stdout",
     "output_type": "stream",
     "text": [
      "Dropout: 0.2, LR: 0.01, Validation Loss: 0.055638915639848546, Validation Accuracy: 98.5505777417393%\n",
      "Training complete\n"
     ]
    },
    {
     "name": "stderr",
     "output_type": "stream",
     "text": [
      "Epoch 1/10: 100%|██████████| 1439/1439 [03:39<00:00,  6.55batch/s, loss=1.99]\n",
      "Epoch 2/10: 100%|██████████| 1439/1439 [03:24<00:00,  7.05batch/s, loss=0.825]\n",
      "Epoch 3/10: 100%|██████████| 1439/1439 [03:32<00:00,  6.78batch/s, loss=0.536]\n",
      "Epoch 4/10: 100%|██████████| 1439/1439 [03:20<00:00,  7.19batch/s, loss=0.392]\n",
      "Epoch 5/10: 100%|██████████| 1439/1439 [03:19<00:00,  7.21batch/s, loss=0.314]\n",
      "Epoch 6/10: 100%|██████████| 1439/1439 [03:18<00:00,  7.25batch/s, loss=0.253]\n",
      "Epoch 7/10: 100%|██████████| 1439/1439 [03:29<00:00,  6.87batch/s, loss=0.215]\n",
      "Epoch 8/10: 100%|██████████| 1439/1439 [03:20<00:00,  7.18batch/s, loss=0.185]\n",
      "Epoch 9/10: 100%|██████████| 1439/1439 [03:16<00:00,  7.33batch/s, loss=0.157] \n",
      "Epoch 10/10: 100%|██████████| 1439/1439 [03:21<00:00,  7.12batch/s, loss=0.142] \n"
     ]
    },
    {
     "name": "stdout",
     "output_type": "stream",
     "text": [
      "Dropout: 0.3, LR: 0.0001, Validation Loss: 0.038922868408511384, Validation Accuracy: 98.84451652138658%\n",
      "Training complete\n"
     ]
    },
    {
     "name": "stderr",
     "output_type": "stream",
     "text": [
      "Epoch 1/10: 100%|██████████| 1439/1439 [03:20<00:00,  7.17batch/s, loss=1.13] \n",
      "Epoch 2/10: 100%|██████████| 1439/1439 [03:24<00:00,  7.03batch/s, loss=0.388]\n",
      "Epoch 3/10: 100%|██████████| 1439/1439 [03:21<00:00,  7.15batch/s, loss=0.25] \n",
      "Epoch 4/10: 100%|██████████| 1439/1439 [03:22<00:00,  7.12batch/s, loss=0.187]\n",
      "Epoch 5/10: 100%|██████████| 1439/1439 [03:20<00:00,  7.19batch/s, loss=0.151]\n",
      "Epoch 6/10: 100%|██████████| 1439/1439 [03:35<00:00,  6.69batch/s, loss=0.132] \n",
      "Epoch 7/10: 100%|██████████| 1439/1439 [03:22<00:00,  7.10batch/s, loss=0.115] \n",
      "Epoch 8/10: 100%|██████████| 1439/1439 [03:28<00:00,  6.89batch/s, loss=0.102] \n",
      "Epoch 9/10: 100%|██████████| 1439/1439 [03:20<00:00,  7.17batch/s, loss=0.0915]\n",
      "Epoch 10/10: 100%|██████████| 1439/1439 [03:11<00:00,  7.51batch/s, loss=0.0903]\n"
     ]
    },
    {
     "name": "stdout",
     "output_type": "stream",
     "text": [
      "Dropout: 0.3, LR: 0.0005, Validation Loss: 0.020920142484042368, Validation Accuracy: 99.46280154064463%\n",
      "Training complete\n"
     ]
    },
    {
     "name": "stderr",
     "output_type": "stream",
     "text": [
      "Epoch 1/10: 100%|██████████| 1439/1439 [02:35<00:00,  9.24batch/s, loss=0.931]\n",
      "Epoch 2/10: 100%|██████████| 1439/1439 [02:49<00:00,  8.48batch/s, loss=0.323]\n",
      "Epoch 3/10: 100%|██████████| 1439/1439 [02:37<00:00,  9.14batch/s, loss=0.229]\n",
      "Epoch 4/10: 100%|██████████| 1439/1439 [02:46<00:00,  8.62batch/s, loss=0.184] \n",
      "Epoch 5/10: 100%|██████████| 1439/1439 [02:55<00:00,  8.18batch/s, loss=0.156] \n",
      "Epoch 6/10: 100%|██████████| 1439/1439 [02:46<00:00,  8.63batch/s, loss=0.134] \n",
      "Epoch 7/10: 100%|██████████| 1439/1439 [02:49<00:00,  8.48batch/s, loss=0.127] \n",
      "Epoch 8/10: 100%|██████████| 1439/1439 [02:42<00:00,  8.84batch/s, loss=0.119] \n",
      "Epoch 9/10: 100%|██████████| 1439/1439 [02:46<00:00,  8.66batch/s, loss=0.104] \n",
      "Epoch 10/10: 100%|██████████| 1439/1439 [02:48<00:00,  8.53batch/s, loss=0.1]   \n"
     ]
    },
    {
     "name": "stdout",
     "output_type": "stream",
     "text": [
      "Dropout: 0.3, LR: 0.001, Validation Loss: 0.01679817287595584, Validation Accuracy: 99.49320900060815%\n",
      "Training complete\n"
     ]
    },
    {
     "name": "stderr",
     "output_type": "stream",
     "text": [
      "Epoch 1/10: 100%|██████████| 1439/1439 [02:47<00:00,  8.61batch/s, loss=1.11] \n",
      "Epoch 2/10: 100%|██████████| 1439/1439 [02:49<00:00,  8.49batch/s, loss=0.442]\n",
      "Epoch 3/10: 100%|██████████| 1439/1439 [02:49<00:00,  8.50batch/s, loss=0.319]\n",
      "Epoch 4/10: 100%|██████████| 1439/1439 [02:51<00:00,  8.41batch/s, loss=0.261]\n",
      "Epoch 5/10: 100%|██████████| 1439/1439 [02:51<00:00,  8.39batch/s, loss=0.224]\n",
      "Epoch 6/10: 100%|██████████| 1439/1439 [02:53<00:00,  8.30batch/s, loss=0.201]\n",
      "Epoch 7/10: 100%|██████████| 1439/1439 [02:54<00:00,  8.26batch/s, loss=0.185]\n",
      "Epoch 8/10: 100%|██████████| 1439/1439 [02:55<00:00,  8.20batch/s, loss=0.176]\n",
      "Epoch 9/10: 100%|██████████| 1439/1439 [02:56<00:00,  8.13batch/s, loss=0.16] \n",
      "Epoch 10/10: 100%|██████████| 1439/1439 [02:57<00:00,  8.10batch/s, loss=0.155] \n"
     ]
    },
    {
     "name": "stdout",
     "output_type": "stream",
     "text": [
      "Dropout: 0.3, LR: 0.005, Validation Loss: 0.031036254780460355, Validation Accuracy: 99.0168254611798%\n",
      "Training complete\n"
     ]
    },
    {
     "name": "stderr",
     "output_type": "stream",
     "text": [
      "Epoch 1/10: 100%|██████████| 1439/1439 [02:55<00:00,  8.21batch/s, loss=1.33]\n",
      "Epoch 2/10: 100%|██████████| 1439/1439 [02:56<00:00,  8.17batch/s, loss=0.642]\n",
      "Epoch 3/10: 100%|██████████| 1439/1439 [02:56<00:00,  8.15batch/s, loss=0.495]\n",
      "Epoch 4/10: 100%|██████████| 1439/1439 [02:57<00:00,  8.13batch/s, loss=0.441]\n",
      "Epoch 5/10: 100%|██████████| 1439/1439 [02:56<00:00,  8.16batch/s, loss=0.406]\n",
      "Epoch 6/10: 100%|██████████| 1439/1439 [02:56<00:00,  8.17batch/s, loss=0.371]\n",
      "Epoch 7/10: 100%|██████████| 1439/1439 [02:58<00:00,  8.05batch/s, loss=0.374]\n",
      "Epoch 8/10: 100%|██████████| 1439/1439 [03:04<00:00,  7.82batch/s, loss=0.345]\n",
      "Epoch 9/10: 100%|██████████| 1439/1439 [03:03<00:00,  7.83batch/s, loss=0.329]\n",
      "Epoch 10/10: 100%|██████████| 1439/1439 [03:04<00:00,  7.80batch/s, loss=0.322]\n"
     ]
    },
    {
     "name": "stdout",
     "output_type": "stream",
     "text": [
      "Dropout: 0.3, LR: 0.01, Validation Loss: 0.07334741837729276, Validation Accuracy: 97.92215690249341%\n",
      "Training complete\n"
     ]
    },
    {
     "name": "stderr",
     "output_type": "stream",
     "text": [
      "Epoch 1/10: 100%|██████████| 1439/1439 [02:54<00:00,  8.25batch/s, loss=2.44]\n",
      "Epoch 2/10: 100%|██████████| 1439/1439 [02:59<00:00,  8.04batch/s, loss=1.27] \n",
      "Epoch 3/10: 100%|██████████| 1439/1439 [02:57<00:00,  8.10batch/s, loss=0.881]\n",
      "Epoch 4/10: 100%|██████████| 1439/1439 [02:57<00:00,  8.09batch/s, loss=0.681]\n",
      "Epoch 5/10: 100%|██████████| 1439/1439 [03:01<00:00,  7.95batch/s, loss=0.563]\n",
      "Epoch 6/10: 100%|██████████| 1439/1439 [2:44:42<00:00,  6.87s/batch, loss=0.481]    \n",
      "Epoch 7/10: 100%|██████████| 1439/1439 [4:47:00<00:00, 11.97s/batch, loss=0.412]    \n",
      "Epoch 8/10: 100%|██████████| 1439/1439 [02:15<00:00, 10.61batch/s, loss=0.362]\n",
      "Epoch 9/10: 100%|██████████| 1439/1439 [02:18<00:00, 10.41batch/s, loss=0.321]\n",
      "Epoch 10/10: 100%|██████████| 1439/1439 [02:40<00:00,  8.97batch/s, loss=0.292]\n"
     ]
    },
    {
     "name": "stdout",
     "output_type": "stream",
     "text": [
      "Dropout: 0.4, LR: 0.0001, Validation Loss: 0.08977317958648247, Validation Accuracy: 97.39509426312588%\n",
      "Training complete\n"
     ]
    },
    {
     "name": "stderr",
     "output_type": "stream",
     "text": [
      "Epoch 1/10: 100%|██████████| 1439/1439 [02:44<00:00,  8.76batch/s, loss=1.44]\n",
      "Epoch 2/10: 100%|██████████| 1439/1439 [02:51<00:00,  8.40batch/s, loss=0.595]\n",
      "Epoch 3/10: 100%|██████████| 1439/1439 [02:55<00:00,  8.21batch/s, loss=0.404]\n",
      "Epoch 4/10: 100%|██████████| 1439/1439 [02:59<00:00,  8.03batch/s, loss=0.317]\n",
      "Epoch 5/10: 100%|██████████| 1439/1439 [03:05<00:00,  7.77batch/s, loss=0.267]\n",
      "Epoch 6/10: 100%|██████████| 1439/1439 [03:05<00:00,  7.74batch/s, loss=0.229]\n",
      "Epoch 7/10: 100%|██████████| 1439/1439 [02:56<00:00,  8.16batch/s, loss=0.213]\n",
      "Epoch 8/10: 100%|██████████| 1439/1439 [02:47<00:00,  8.61batch/s, loss=0.185]\n",
      "Epoch 9/10: 100%|██████████| 1439/1439 [02:51<00:00,  8.37batch/s, loss=0.175]\n",
      "Epoch 10/10: 100%|██████████| 1439/1439 [02:57<00:00,  8.13batch/s, loss=0.157]\n"
     ]
    },
    {
     "name": "stdout",
     "output_type": "stream",
     "text": [
      "Dropout: 0.4, LR: 0.0005, Validation Loss: 0.03115209849812407, Validation Accuracy: 99.13845530103386%\n",
      "Training complete\n"
     ]
    },
    {
     "name": "stderr",
     "output_type": "stream",
     "text": [
      "Epoch 1/10: 100%|██████████| 1439/1439 [02:56<00:00,  8.18batch/s, loss=1.28]\n",
      "Epoch 2/10: 100%|██████████| 1439/1439 [02:58<00:00,  8.07batch/s, loss=0.557]\n",
      "Epoch 3/10: 100%|██████████| 1439/1439 [02:58<00:00,  8.07batch/s, loss=0.405]\n",
      "Epoch 4/10: 100%|██████████| 1439/1439 [02:58<00:00,  8.05batch/s, loss=0.33] \n",
      "Epoch 5/10: 100%|██████████| 1439/1439 [03:01<00:00,  7.95batch/s, loss=0.28] \n",
      "Epoch 6/10: 100%|██████████| 1439/1439 [03:07<00:00,  7.68batch/s, loss=0.25] \n",
      "Epoch 7/10: 100%|██████████| 1439/1439 [03:11<00:00,  7.50batch/s, loss=0.224]\n",
      "Epoch 8/10: 100%|██████████| 1439/1439 [03:06<00:00,  7.72batch/s, loss=0.2]  \n",
      "Epoch 9/10: 100%|██████████| 1439/1439 [03:06<00:00,  7.72batch/s, loss=0.195]\n",
      "Epoch 10/10: 100%|██████████| 1439/1439 [03:09<00:00,  7.60batch/s, loss=0.174]\n"
     ]
    },
    {
     "name": "stdout",
     "output_type": "stream",
     "text": [
      "Dropout: 0.4, LR: 0.001, Validation Loss: 0.03141675984771759, Validation Accuracy: 99.13845530103386%\n",
      "Training complete\n"
     ]
    },
    {
     "name": "stderr",
     "output_type": "stream",
     "text": [
      "Epoch 1/10: 100%|██████████| 1439/1439 [03:17<00:00,  7.30batch/s, loss=1.46]\n",
      "Epoch 2/10: 100%|██████████| 1439/1439 [03:12<00:00,  7.49batch/s, loss=0.706]\n",
      "Epoch 3/10: 100%|██████████| 1439/1439 [03:04<00:00,  7.80batch/s, loss=0.535]\n",
      "Epoch 4/10: 100%|██████████| 1439/1439 [03:03<00:00,  7.86batch/s, loss=0.439]\n",
      "Epoch 5/10: 100%|██████████| 1439/1439 [03:42<00:00,  6.46batch/s, loss=0.389]\n",
      "Epoch 6/10: 100%|██████████| 1439/1439 [03:57<00:00,  6.06batch/s, loss=0.357]\n",
      "Epoch 7/10: 100%|██████████| 1439/1439 [03:15<00:00,  7.36batch/s, loss=0.327]\n",
      "Epoch 8/10:  78%|███████▊  | 1124/1439 [03:05<01:34,  3.32batch/s, loss=0.241]"
     ]
    }
   ],
   "source": [
    "# Initialize the model, loss function, and optimizer\n",
    "\n",
    "p_dropouts = [0.1, 0.2, 0.3, 0.4, 0.5]\n",
    "lrs = [0.0001, 0.0005, 0.001, 0.005, 0.01]\n",
    "for p_dropout in p_dropouts:\n",
    "    for lr in lrs: \n",
    "        num_classes = get_num_classes(train_dataset)\n",
    "        model = PaperCNN(num_classes=num_classes, p_dropout = p_dropout)\n",
    "        device = torch.device(\"mps\") if torch.backends.mps.is_available() else torch.device(\"cpu\")\n",
    "        model.to(device)\n",
    "        #print(\"Model initialized\")\n",
    "        \n",
    "        criterion = nn.CrossEntropyLoss()\n",
    "        optimizer = optim.Adam(model.parameters(), lr=lr)\n",
    "        #print(\"Optimizer initialized\")\n",
    "        \n",
    "        # Initialize lists to track metrics\n",
    "        train_losses = []\n",
    "        val_losses = []\n",
    "        train_accuracies = []\n",
    "        val_accuracies = []\n",
    "        \n",
    "        \n",
    "        # Training loop with tqdm progress bar\n",
    "        num_epochs = 10\n",
    "        for epoch in range(num_epochs):\n",
    "            model.train()\n",
    "            running_loss = 0.0\n",
    "            correct_train = 0\n",
    "            total_train = 0\n",
    "            train_loader_tqdm = tqdm(train_loader, desc=f\"Epoch {epoch+1}/{num_epochs}\", unit=\"batch\")\n",
    "            for images, labels in train_loader_tqdm:\n",
    "                # move images and labels to device\n",
    "                images, labels = images.to(device), labels.to(device)\n",
    "                \n",
    "                optimizer.zero_grad()\n",
    "                outputs = model(images)\n",
    "                loss = criterion(outputs, labels)\n",
    "                loss.backward()\n",
    "                optimizer.step()\n",
    "                running_loss += loss.item()\n",
    "                train_loader_tqdm.set_postfix(loss=running_loss/len(train_loader))\n",
    "                \n",
    "                # Calculate training accuracy\n",
    "                _, predicted = torch.max(outputs.data, 1)\n",
    "                total_train += labels.size(0)\n",
    "                correct_train += (predicted == labels).sum().item()\n",
    "        \n",
    "            epoch_loss = running_loss / len(train_loader)\n",
    "            train_losses.append(epoch_loss)\n",
    "            train_accuracy = 100 * correct_train / total_train\n",
    "            train_accuracies.append(train_accuracy)\n",
    "            \n",
    "            #print(f\"Epoch {epoch+1}, Loss: {epoch_loss}, Accuracy: {train_accuracy}%\")\n",
    "        \n",
    "            # Validation loop\n",
    "            model.eval()\n",
    "            running_val_loss = 0.0\n",
    "            correct_val = 0\n",
    "            total_val = 0\n",
    "            all_labels = []\n",
    "            all_predictions = []\n",
    "            with torch.no_grad():\n",
    "                for images, labels in val_loader:\n",
    "                    # move images and labels to device\n",
    "                    images, labels = images.to(device), labels.to(device)\n",
    "                    \n",
    "                    outputs = model(images)\n",
    "                    loss = criterion(outputs, labels)\n",
    "                    running_val_loss += loss.item()\n",
    "                    _, predicted = torch.max(outputs.data, 1)\n",
    "                    total_val += labels.size(0)\n",
    "                    correct_val += (predicted == labels).sum().item()\n",
    "                    all_labels.extend(labels.cpu().numpy())\n",
    "                    all_predictions.extend(predicted.cpu().numpy())\n",
    "            \n",
    "            epoch_val_loss = running_val_loss / len(val_loader)\n",
    "            val_losses.append(epoch_val_loss)\n",
    "            val_accuracy = 100 * correct_val / total_val\n",
    "            val_accuracies.append(val_accuracy)\n",
    "        final_train_loss = train_losses[-1]\n",
    "        final_val_loss = val_losses[-1]\n",
    "        final_train_accuracy = train_accuracies[-1]\n",
    "        final_val_accuracy = val_accuracies[-1]\n",
    "        print(f\"Dropout: {p_dropout}, LR: {lr}, Validation Loss: {final_val_loss}, Validation Accuracy: {final_val_accuracy}%\")\n",
    "        \n",
    "        \n",
    "        print(\"Training complete\")"
   ]
  },
  {
   "cell_type": "code",
   "execution_count": 7,
   "outputs": [
    {
     "name": "stderr",
     "output_type": "stream",
     "text": [
      "Epoch 1/10: 100%|██████████| 1439/1439 [06:08<00:00,  3.91batch/s, loss=2.38]\n",
      "Epoch 2/10: 100%|██████████| 1439/1439 [05:08<00:00,  4.66batch/s, loss=1.24] \n",
      "Epoch 3/10: 100%|██████████| 1439/1439 [05:04<00:00,  4.72batch/s, loss=0.862]\n",
      "Epoch 4/10: 100%|██████████| 1439/1439 [04:57<00:00,  4.83batch/s, loss=0.678]\n",
      "Epoch 5/10: 100%|██████████| 1439/1439 [04:47<00:00,  5.01batch/s, loss=0.555]\n",
      "Epoch 6/10: 100%|██████████| 1439/1439 [04:31<00:00,  5.30batch/s, loss=0.473]\n",
      "Epoch 7/10: 100%|██████████| 1439/1439 [04:01<00:00,  5.95batch/s, loss=0.405]\n",
      "Epoch 8/10: 100%|██████████| 1439/1439 [03:56<00:00,  6.07batch/s, loss=0.35] \n",
      "Epoch 9/10: 100%|██████████| 1439/1439 [03:40<00:00,  6.54batch/s, loss=0.317]\n",
      "Epoch 10/10: 100%|██████████| 1439/1439 [03:42<00:00,  6.46batch/s, loss=0.284]\n"
     ]
    },
    {
     "name": "stdout",
     "output_type": "stream",
     "text": [
      "Dropout: 0.4, LR: 0.0001, Validation Loss: 0.09374710329142204, Validation Accuracy: 97.30387188323536%\n",
      "Training complete\n"
     ]
    },
    {
     "name": "stderr",
     "output_type": "stream",
     "text": [
      "Epoch 1/10: 100%|██████████| 1439/1439 [03:35<00:00,  6.67batch/s, loss=1.44]\n",
      "Epoch 2/10: 100%|██████████| 1439/1439 [03:30<00:00,  6.84batch/s, loss=0.609]\n",
      "Epoch 3/10: 100%|██████████| 1439/1439 [03:33<00:00,  6.73batch/s, loss=0.415]\n",
      "Epoch 4/10: 100%|██████████| 1439/1439 [03:30<00:00,  6.83batch/s, loss=0.323]\n",
      "Epoch 5/10: 100%|██████████| 1439/1439 [03:20<00:00,  7.18batch/s, loss=0.276]\n",
      "Epoch 6/10: 100%|██████████| 1439/1439 [03:37<00:00,  6.61batch/s, loss=0.234]\n",
      "Epoch 7/10: 100%|██████████| 1439/1439 [03:48<00:00,  6.29batch/s, loss=0.21]  \n",
      "Epoch 8/10: 100%|██████████| 1439/1439 [03:40<00:00,  6.53batch/s, loss=0.197]\n",
      "Epoch 9/10: 100%|██████████| 1439/1439 [03:20<00:00,  7.17batch/s, loss=0.177]\n",
      "Epoch 10/10: 100%|██████████| 1439/1439 [03:27<00:00,  6.95batch/s, loss=0.167]\n"
     ]
    },
    {
     "name": "stdout",
     "output_type": "stream",
     "text": [
      "Dropout: 0.4, LR: 0.0005, Validation Loss: 0.032358311380702, Validation Accuracy: 99.08777620109467%\n",
      "Training complete\n"
     ]
    },
    {
     "name": "stderr",
     "output_type": "stream",
     "text": [
      "Epoch 1/10: 100%|██████████| 1439/1439 [03:09<00:00,  7.58batch/s, loss=1.3] \n",
      "Epoch 2/10: 100%|██████████| 1439/1439 [03:10<00:00,  7.55batch/s, loss=0.551]\n",
      "Epoch 3/10: 100%|██████████| 1439/1439 [03:33<00:00,  6.73batch/s, loss=0.403]\n",
      "Epoch 4/10: 100%|██████████| 1439/1439 [03:52<00:00,  6.20batch/s, loss=0.32] \n",
      "Epoch 5/10: 100%|██████████| 1439/1439 [03:39<00:00,  6.54batch/s, loss=0.278]\n",
      "Epoch 6/10: 100%|██████████| 1439/1439 [03:25<00:00,  7.02batch/s, loss=0.248]\n",
      "Epoch 7/10: 100%|██████████| 1439/1439 [03:31<00:00,  6.80batch/s, loss=0.224]\n",
      "Epoch 8/10: 100%|██████████| 1439/1439 [03:25<00:00,  6.99batch/s, loss=0.205]\n",
      "Epoch 9/10: 100%|██████████| 1439/1439 [03:36<00:00,  6.65batch/s, loss=0.192]\n",
      "Epoch 10/10: 100%|██████████| 1439/1439 [03:46<00:00,  6.36batch/s, loss=0.177]\n"
     ]
    },
    {
     "name": "stdout",
     "output_type": "stream",
     "text": [
      "Dropout: 0.4, LR: 0.001, Validation Loss: 0.03769684836615882, Validation Accuracy: 98.81410906142307%\n",
      "Training complete\n"
     ]
    },
    {
     "name": "stderr",
     "output_type": "stream",
     "text": [
      "Epoch 1/10: 100%|██████████| 1439/1439 [03:56<00:00,  6.10batch/s, loss=1.47]\n",
      "Epoch 2/10: 100%|██████████| 1439/1439 [03:59<00:00,  6.02batch/s, loss=0.692]\n",
      "Epoch 3/10: 100%|██████████| 1439/1439 [03:56<00:00,  6.09batch/s, loss=0.512]\n",
      "Epoch 4/10: 100%|██████████| 1439/1439 [03:41<00:00,  6.49batch/s, loss=0.43] \n",
      "Epoch 5/10: 100%|██████████| 1439/1439 [03:34<00:00,  6.70batch/s, loss=0.381]\n",
      "Epoch 6/10: 100%|██████████| 1439/1439 [03:35<00:00,  6.67batch/s, loss=0.336]\n",
      "Epoch 7/10: 100%|██████████| 1439/1439 [03:20<00:00,  7.19batch/s, loss=0.311]\n",
      "Epoch 8/10: 100%|██████████| 1439/1439 [03:32<00:00,  6.78batch/s, loss=0.297]\n",
      "Epoch 9/10: 100%|██████████| 1439/1439 [03:38<00:00,  6.58batch/s, loss=0.278]\n",
      "Epoch 10/10: 100%|██████████| 1439/1439 [03:29<00:00,  6.86batch/s, loss=0.264]\n"
     ]
    },
    {
     "name": "stdout",
     "output_type": "stream",
     "text": [
      "Dropout: 0.4, LR: 0.005, Validation Loss: 0.05996843089429062, Validation Accuracy: 98.22623150212853%\n",
      "Training complete\n"
     ]
    },
    {
     "name": "stderr",
     "output_type": "stream",
     "text": [
      "Epoch 1/10: 100%|██████████| 1439/1439 [03:04<00:00,  7.79batch/s, loss=1.8] \n",
      "Epoch 2/10: 100%|██████████| 1439/1439 [03:38<00:00,  6.59batch/s, loss=1.04] \n",
      "Epoch 3/10: 100%|██████████| 1439/1439 [03:43<00:00,  6.44batch/s, loss=0.846]\n",
      "Epoch 4/10: 100%|██████████| 1439/1439 [03:12<00:00,  7.49batch/s, loss=0.746]\n",
      "Epoch 5/10: 100%|██████████| 1439/1439 [03:28<00:00,  6.89batch/s, loss=0.672]\n",
      "Epoch 6/10: 100%|██████████| 1439/1439 [03:54<00:00,  6.13batch/s, loss=0.63] \n",
      "Epoch 7/10: 100%|██████████| 1439/1439 [03:53<00:00,  6.18batch/s, loss=0.617]\n",
      "Epoch 8/10: 100%|██████████| 1439/1439 [04:05<00:00,  5.86batch/s, loss=0.578]\n",
      "Epoch 9/10: 100%|██████████| 1439/1439 [04:04<00:00,  5.89batch/s, loss=0.545]\n",
      "Epoch 10/10: 100%|██████████| 1439/1439 [03:39<00:00,  6.55batch/s, loss=0.543]\n"
     ]
    },
    {
     "name": "stdout",
     "output_type": "stream",
     "text": [
      "Dropout: 0.4, LR: 0.01, Validation Loss: 0.14017892329769757, Validation Accuracy: 95.84431380498683%\n",
      "Training complete\n"
     ]
    },
    {
     "name": "stderr",
     "output_type": "stream",
     "text": [
      "Epoch 1/10: 100%|██████████| 1439/1439 [03:38<00:00,  6.60batch/s, loss=2.79]\n",
      "Epoch 2/10: 100%|██████████| 1439/1439 [03:25<00:00,  7.00batch/s, loss=1.77]\n",
      "Epoch 3/10: 100%|██████████| 1439/1439 [03:10<00:00,  7.56batch/s, loss=1.31] \n",
      "Epoch 4/10: 100%|██████████| 1439/1439 [03:33<00:00,  6.74batch/s, loss=1.05] \n",
      "Epoch 5/10: 100%|██████████| 1439/1439 [03:50<00:00,  6.24batch/s, loss=0.905]\n",
      "Epoch 6/10: 100%|██████████| 1439/1439 [03:36<00:00,  6.65batch/s, loss=0.786]\n",
      "Epoch 7/10: 100%|██████████| 1439/1439 [03:43<00:00,  6.43batch/s, loss=0.7]  \n",
      "Epoch 8/10: 100%|██████████| 1439/1439 [03:58<00:00,  6.04batch/s, loss=0.632]\n",
      "Epoch 9/10: 100%|██████████| 1439/1439 [03:16<00:00,  7.32batch/s, loss=0.575]\n",
      "Epoch 10/10: 100%|██████████| 1439/1439 [03:55<00:00,  6.12batch/s, loss=0.52] \n"
     ]
    },
    {
     "name": "stdout",
     "output_type": "stream",
     "text": [
      "Dropout: 0.5, LR: 0.0001, Validation Loss: 0.21728032804471004, Validation Accuracy: 93.59416176768701%\n",
      "Training complete\n"
     ]
    },
    {
     "name": "stderr",
     "output_type": "stream",
     "text": [
      "Epoch 1/10: 100%|██████████| 1439/1439 [04:03<00:00,  5.92batch/s, loss=1.84]\n",
      "Epoch 2/10: 100%|██████████| 1439/1439 [03:34<00:00,  6.72batch/s, loss=0.923]\n",
      "Epoch 3/10: 100%|██████████| 1439/1439 [03:30<00:00,  6.83batch/s, loss=0.679]\n",
      "Epoch 4/10: 100%|██████████| 1439/1439 [03:20<00:00,  7.17batch/s, loss=0.552]\n",
      "Epoch 5/10: 100%|██████████| 1439/1439 [09:21<00:00,  2.56batch/s, loss=0.474]  \n",
      "Epoch 6/10: 100%|██████████| 1439/1439 [02:16<00:00, 10.58batch/s, loss=0.416]\n",
      "Epoch 7/10: 100%|██████████| 1439/1439 [02:19<00:00, 10.33batch/s, loss=0.378]\n",
      "Epoch 8/10: 100%|██████████| 1439/1439 [02:25<00:00,  9.90batch/s, loss=0.348]\n",
      "Epoch 9/10: 100%|██████████| 1439/1439 [02:24<00:00,  9.99batch/s, loss=0.328]\n",
      "Epoch 10/10: 100%|██████████| 1439/1439 [02:26<00:00,  9.86batch/s, loss=0.307]\n"
     ]
    },
    {
     "name": "stdout",
     "output_type": "stream",
     "text": [
      "Dropout: 0.5, LR: 0.0005, Validation Loss: 0.0715509975335823, Validation Accuracy: 97.94242854246909%\n",
      "Training complete\n"
     ]
    },
    {
     "name": "stderr",
     "output_type": "stream",
     "text": [
      "Epoch 1/10: 100%|██████████| 1439/1439 [02:24<00:00,  9.94batch/s, loss=1.66]\n",
      "Epoch 2/10: 100%|██████████| 1439/1439 [02:28<00:00,  9.72batch/s, loss=0.848]\n",
      "Epoch 3/10: 100%|██████████| 1439/1439 [02:27<00:00,  9.75batch/s, loss=0.642]\n",
      "Epoch 4/10: 100%|██████████| 1439/1439 [02:29<00:00,  9.64batch/s, loss=0.537]\n",
      "Epoch 5/10: 100%|██████████| 1439/1439 [02:30<00:00,  9.54batch/s, loss=0.469]\n",
      "Epoch 6/10: 100%|██████████| 1439/1439 [02:29<00:00,  9.62batch/s, loss=0.423]\n",
      "Epoch 7/10: 100%|██████████| 1439/1439 [02:32<00:00,  9.45batch/s, loss=0.385]\n",
      "Epoch 8/10: 100%|██████████| 1439/1439 [02:30<00:00,  9.58batch/s, loss=0.353]\n",
      "Epoch 9/10: 100%|██████████| 1439/1439 [02:33<00:00,  9.36batch/s, loss=0.335]\n",
      "Epoch 10/10: 100%|██████████| 1439/1439 [02:32<00:00,  9.41batch/s, loss=0.315]\n"
     ]
    },
    {
     "name": "stdout",
     "output_type": "stream",
     "text": [
      "Dropout: 0.5, LR: 0.001, Validation Loss: 0.07225743699238657, Validation Accuracy: 97.66876140279749%\n",
      "Training complete\n"
     ]
    },
    {
     "name": "stderr",
     "output_type": "stream",
     "text": [
      "Epoch 1/10: 100%|██████████| 1439/1439 [02:34<00:00,  9.28batch/s, loss=1.86]\n",
      "Epoch 2/10: 100%|██████████| 1439/1439 [02:37<00:00,  9.15batch/s, loss=1.05] \n",
      "Epoch 3/10: 100%|██████████| 1439/1439 [02:37<00:00,  9.12batch/s, loss=0.829]\n",
      "Epoch 4/10: 100%|██████████| 1439/1439 [02:37<00:00,  9.13batch/s, loss=0.714]\n",
      "Epoch 5/10: 100%|██████████| 1439/1439 [02:38<00:00,  9.10batch/s, loss=0.64] \n",
      "Epoch 6/10: 100%|██████████| 1439/1439 [02:42<00:00,  8.85batch/s, loss=0.593]\n",
      "Epoch 7/10: 100%|██████████| 1439/1439 [02:35<00:00,  9.25batch/s, loss=0.55] \n",
      "Epoch 8/10: 100%|██████████| 1439/1439 [02:35<00:00,  9.24batch/s, loss=0.51] \n",
      "Epoch 9/10: 100%|██████████| 1439/1439 [02:37<00:00,  9.15batch/s, loss=0.495]\n",
      "Epoch 10/10: 100%|██████████| 1439/1439 [02:34<00:00,  9.34batch/s, loss=0.483]\n"
     ]
    },
    {
     "name": "stdout",
     "output_type": "stream",
     "text": [
      "Dropout: 0.5, LR: 0.005, Validation Loss: 0.12832137884144162, Validation Accuracy: 96.0571660247314%\n",
      "Training complete\n"
     ]
    },
    {
     "name": "stderr",
     "output_type": "stream",
     "text": [
      "Epoch 1/10: 100%|██████████| 1439/1439 [02:31<00:00,  9.53batch/s, loss=2.29]\n",
      "Epoch 2/10: 100%|██████████| 1439/1439 [02:33<00:00,  9.37batch/s, loss=1.5] \n",
      "Epoch 3/10: 100%|██████████| 1439/1439 [02:33<00:00,  9.36batch/s, loss=1.28] \n",
      "Epoch 4/10: 100%|██████████| 1439/1439 [02:34<00:00,  9.29batch/s, loss=1.16] \n",
      "Epoch 5/10: 100%|██████████| 1439/1439 [02:33<00:00,  9.40batch/s, loss=1.08] \n",
      "Epoch 6/10: 100%|██████████| 1439/1439 [02:34<00:00,  9.32batch/s, loss=1.01] \n",
      "Epoch 7/10: 100%|██████████| 1439/1439 [02:38<00:00,  9.05batch/s, loss=0.965]\n",
      "Epoch 8/10: 100%|██████████| 1439/1439 [02:57<00:00,  8.11batch/s, loss=0.93] \n",
      "Epoch 9/10: 100%|██████████| 1439/1439 [03:05<00:00,  7.77batch/s, loss=0.909]\n",
      "Epoch 10/10: 100%|██████████| 1439/1439 [03:11<00:00,  7.52batch/s, loss=0.878]\n"
     ]
    },
    {
     "name": "stdout",
     "output_type": "stream",
     "text": [
      "Dropout: 0.5, LR: 0.01, Validation Loss: 0.30431127762813787, Validation Accuracy: 90.22906953172512%\n",
      "Training complete\n"
     ]
    }
   ],
   "source": [
    "# Initialize the model, loss function, and optimizer\n",
    "\n",
    "p_dropouts = [0.4, 0.5]\n",
    "lrs = [0.0001, 0.0005, 0.001, 0.005, 0.01]\n",
    "for p_dropout in p_dropouts:\n",
    "    for lr in lrs: \n",
    "        num_classes = get_num_classes(train_dataset)\n",
    "        model = PaperCNN(num_classes=num_classes, p_dropout = p_dropout)\n",
    "        device = torch.device(\"mps\") if torch.backends.mps.is_available() else torch.device(\"cpu\")\n",
    "        model.to(device)\n",
    "        #print(\"Model initialized\")\n",
    "        \n",
    "        criterion = nn.CrossEntropyLoss()\n",
    "        optimizer = optim.Adam(model.parameters(), lr=lr)\n",
    "        #print(\"Optimizer initialized\")\n",
    "        \n",
    "        # Initialize lists to track metrics\n",
    "        train_losses = []\n",
    "        val_losses = []\n",
    "        train_accuracies = []\n",
    "        val_accuracies = []\n",
    "        \n",
    "        \n",
    "        # Training loop with tqdm progress bar\n",
    "        num_epochs = 10\n",
    "        for epoch in range(num_epochs):\n",
    "            model.train()\n",
    "            running_loss = 0.0\n",
    "            correct_train = 0\n",
    "            total_train = 0\n",
    "            train_loader_tqdm = tqdm(train_loader, desc=f\"Epoch {epoch+1}/{num_epochs}\", unit=\"batch\")\n",
    "            for images, labels in train_loader_tqdm:\n",
    "                # move images and labels to device\n",
    "                images, labels = images.to(device), labels.to(device)\n",
    "                \n",
    "                optimizer.zero_grad()\n",
    "                outputs = model(images)\n",
    "                loss = criterion(outputs, labels)\n",
    "                loss.backward()\n",
    "                optimizer.step()\n",
    "                running_loss += loss.item()\n",
    "                train_loader_tqdm.set_postfix(loss=running_loss/len(train_loader))\n",
    "                \n",
    "                # Calculate training accuracy\n",
    "                _, predicted = torch.max(outputs.data, 1)\n",
    "                total_train += labels.size(0)\n",
    "                correct_train += (predicted == labels).sum().item()\n",
    "        \n",
    "            epoch_loss = running_loss / len(train_loader)\n",
    "            train_losses.append(epoch_loss)\n",
    "            train_accuracy = 100 * correct_train / total_train\n",
    "            train_accuracies.append(train_accuracy)\n",
    "            \n",
    "            #print(f\"Epoch {epoch+1}, Loss: {epoch_loss}, Accuracy: {train_accuracy}%\")\n",
    "        \n",
    "            # Validation loop\n",
    "            model.eval()\n",
    "            running_val_loss = 0.0\n",
    "            correct_val = 0\n",
    "            total_val = 0\n",
    "            all_labels = []\n",
    "            all_predictions = []\n",
    "            with torch.no_grad():\n",
    "                for images, labels in val_loader:\n",
    "                    # move images and labels to device\n",
    "                    images, labels = images.to(device), labels.to(device)\n",
    "                    \n",
    "                    outputs = model(images)\n",
    "                    loss = criterion(outputs, labels)\n",
    "                    running_val_loss += loss.item()\n",
    "                    _, predicted = torch.max(outputs.data, 1)\n",
    "                    total_val += labels.size(0)\n",
    "                    correct_val += (predicted == labels).sum().item()\n",
    "                    all_labels.extend(labels.cpu().numpy())\n",
    "                    all_predictions.extend(predicted.cpu().numpy())\n",
    "            \n",
    "            epoch_val_loss = running_val_loss / len(val_loader)\n",
    "            val_losses.append(epoch_val_loss)\n",
    "            val_accuracy = 100 * correct_val / total_val\n",
    "            val_accuracies.append(val_accuracy)\n",
    "        final_train_loss = train_losses[-1]\n",
    "        final_val_loss = val_losses[-1]\n",
    "        final_train_accuracy = train_accuracies[-1]\n",
    "        final_val_accuracy = val_accuracies[-1]\n",
    "        print(f\"Dropout: {p_dropout}, LR: {lr}, Validation Loss: {final_val_loss}, Validation Accuracy: {final_val_accuracy}%\")\n",
    "        \n",
    "        \n",
    "        print(\"Training complete\")"
   ],
   "metadata": {
    "collapsed": false,
    "ExecuteTime": {
     "end_time": "2024-06-01T23:19:13.793901Z",
     "start_time": "2024-06-01T17:18:23.293164Z"
    }
   },
   "id": "f77d89ede61af3af"
  },
  {
   "cell_type": "code",
   "execution_count": null,
   "id": "d0cc10c6",
   "metadata": {},
   "outputs": [],
   "source": [
    "# Plot training and validation loss\n",
    "plt.figure(figsize=(12, 5))\n",
    "\n",
    "plt.subplot(1, 2, 1)\n",
    "plt.plot(train_losses, label='Training Loss')\n",
    "plt.plot(val_losses, label='Validation Loss')\n",
    "plt.xlabel('Epoch')\n",
    "plt.ylabel('Loss')\n",
    "plt.title('Training and Validation Loss Over Epochs')\n",
    "plt.legend()\n",
    "\n",
    "# Plot training and validation accuracy\n",
    "plt.subplot(1, 2, 2)\n",
    "plt.plot(train_accuracies, label='Training Accuracy')\n",
    "plt.plot(val_accuracies, label='Validation Accuracy')\n",
    "plt.xlabel('Epoch')\n",
    "plt.ylabel('Accuracy')\n",
    "plt.title('Training and Validation Accuracy Over Epochs')\n",
    "plt.legend()\n",
    "\n",
    "plt.tight_layout()\n",
    "plt.show()"
   ]
  },
  {
   "cell_type": "code",
   "execution_count": null,
   "id": "c194f840",
   "metadata": {},
   "outputs": [],
   "source": [
    "# Generate confusion matrix\n",
    "cm = confusion_matrix(all_labels, all_predictions)\n",
    "cmd = ConfusionMatrixDisplay(cm, display_labels=[i for i in range(num_classes)])\n",
    "fig, ax = plt.subplots(figsize=(10, 10))  # Adjust the size\n",
    "cmd.plot(ax=ax, xticks_rotation='vertical')\n",
    "plt.title('Confusion Matrix')\n",
    "plt.show()"
   ]
  },
  {
   "cell_type": "code",
   "execution_count": null,
   "id": "9eb63cd2",
   "metadata": {},
   "outputs": [],
   "source": [
    "# debugging for mps speedup"
   ]
  }
 ],
 "metadata": {
  "kernelspec": {
   "display_name": "cs224n",
   "language": "python",
   "name": "cs224n"
  },
  "language_info": {
   "codemirror_mode": {
    "name": "ipython",
    "version": 3
   },
   "file_extension": ".py",
   "mimetype": "text/x-python",
   "name": "python",
   "nbconvert_exporter": "python",
   "pygments_lexer": "ipython3",
   "version": "3.12.2"
  }
 },
 "nbformat": 4,
 "nbformat_minor": 5
}
