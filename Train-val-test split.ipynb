{
 "cells": [
  {
   "cell_type": "code",
   "execution_count": 1,
   "id": "eaf5c4d3",
   "metadata": {},
   "outputs": [],
   "source": [
    "import os\n",
    "import shutil\n",
    "from sklearn.model_selection import train_test_split\n",
    "import hashlib"
   ]
  },
  {
   "cell_type": "code",
   "execution_count": 2,
   "id": "6e078cdb",
   "metadata": {},
   "outputs": [],
   "source": [
    "def create_directory_structure(base_dir):\n",
    "    \"\"\"\n",
    "    Create the directory structure for the dataset.\n",
    "\n",
    "    Args:\n",
    "        base_dir (str): Base directory where train, val, and test directories will be created.\n",
    "    \"\"\"\n",
    "    for dataset in ['train', 'val', 'test']:\n",
    "        path = os.path.join(base_dir, dataset)\n",
    "        os.makedirs(path, exist_ok=True)"
   ]
  },
  {
   "cell_type": "code",
   "execution_count": 3,
   "id": "e8017d9e",
   "metadata": {},
   "outputs": [],
   "source": [
    "def generate_unique_filename(file_path, target_dir):\n",
    "    \"\"\"\n",
    "    Generate a unique filename to prevent overwriting.\n",
    "\n",
    "    Args:\n",
    "        file_path (str): The original file path.\n",
    "        target_dir (str): The target directory where the file will be copied.\n",
    "\n",
    "    Returns:\n",
    "        str: A unique filename.\n",
    "    \"\"\"\n",
    "    file_name, file_ext = os.path.splitext(os.path.basename(file_path))\n",
    "    # Create a unique identifier based on the original file path\n",
    "    unique_id = hashlib.md5(file_path.encode()).hexdigest()\n",
    "    unique_filename = f\"{file_name}_{unique_id}{file_ext}\"\n",
    "    return unique_filename"
   ]
  },
  {
   "cell_type": "code",
   "execution_count": 4,
   "id": "ad091d24",
   "metadata": {},
   "outputs": [],
   "source": [
    "def copy_files(file_list, source_base_dir, target_dir):\n",
    "    \"\"\"\n",
    "    Copy files from source to target directory with unique filenames.\n",
    "\n",
    "    Args:\n",
    "        file_list (list): List of file paths relative to the source base directory.\n",
    "        source_base_dir (str): Source base directory.\n",
    "        target_dir (str): Target directory where files will be copied.\n",
    "    \"\"\"\n",
    "    for file_path in file_list:\n",
    "        source_path = os.path.join(source_base_dir, file_path)\n",
    "        unique_filename = generate_unique_filename(file_path, target_dir)\n",
    "        target_path = os.path.join(target_dir, unique_filename)\n",
    "        shutil.copy2(source_path, target_path)"
   ]
  },
  {
   "cell_type": "code",
   "execution_count": 5,
   "id": "b45e75c2",
   "metadata": {},
   "outputs": [
    {
     "name": "stdout",
     "output_type": "stream",
     "text": [
      "Number of training images: 46041\n",
      "Number of validation images: 9866\n",
      "Number of test images: 9867\n",
      "Data has been split and copied to the train, val, and test directories.\n"
     ]
    }
   ],
   "source": [
    "# Define the base directory and user/letter directories\n",
    "source_base_dir = 'dataset5_preprocessed_50x50/'  # Original dataset directory\n",
    "target_base_dir = 'dataset5_50x50_split/'  # New directory for split data\n",
    "\n",
    "# Create the directory structure for train, val, test\n",
    "create_directory_structure(target_base_dir)\n",
    "\n",
    "# Users and letters in the dataset\n",
    "users = ['A', 'B', 'C', 'D', 'E']\n",
    "letters = [chr(i) for i in range(ord('a'), ord('z') + 1) if chr(i) not in ['j', 'z']]\n",
    "\n",
    "# Split ratio\n",
    "train_ratio = 0.7\n",
    "val_ratio = 0.15\n",
    "test_ratio = 0.15\n",
    "\n",
    "# Set a random seed for reproducibility\n",
    "random_seed = 231\n",
    "\n",
    "# Collect all file paths\n",
    "file_paths = []\n",
    "for user in users:\n",
    "    for letter in letters:\n",
    "        user_letter_dir = os.path.join(user, letter)\n",
    "        full_path = os.path.join(source_base_dir, user_letter_dir)\n",
    "        files = os.listdir(full_path)\n",
    "        file_paths.extend([os.path.join(user_letter_dir, f) for f in files])\n",
    "\n",
    "# Shuffle and split the data\n",
    "train_paths, test_paths = train_test_split(file_paths, test_size=(1 - train_ratio), random_state=random_seed)\n",
    "val_paths, test_paths = train_test_split(test_paths, test_size=(test_ratio / (val_ratio + test_ratio)), random_state=random_seed)\n",
    "\n",
    "# Copy the files to the respective directories\n",
    "copy_files(train_paths, source_base_dir, os.path.join(target_base_dir, 'train'))\n",
    "copy_files(val_paths, source_base_dir, os.path.join(target_base_dir, 'val'))\n",
    "copy_files(test_paths, source_base_dir, os.path.join(target_base_dir, 'test'))\n",
    "\n",
    "# Print the sizes of each split\n",
    "print(f\"Number of training images: {len(train_paths)}\")\n",
    "print(f\"Number of validation images: {len(val_paths)}\")\n",
    "print(f\"Number of test images: {len(test_paths)}\")\n",
    "\n",
    "print(\"Data has been split and copied to the train, val, and test directories.\")"
   ]
  }
 ],
 "metadata": {
  "kernelspec": {
   "display_name": "cs224n",
   "language": "python",
   "name": "cs224n"
  },
  "language_info": {
   "codemirror_mode": {
    "name": "ipython",
    "version": 3
   },
   "file_extension": ".py",
   "mimetype": "text/x-python",
   "name": "python",
   "nbconvert_exporter": "python",
   "pygments_lexer": "ipython3",
   "version": "3.12.2"
  }
 },
 "nbformat": 4,
 "nbformat_minor": 5
}
