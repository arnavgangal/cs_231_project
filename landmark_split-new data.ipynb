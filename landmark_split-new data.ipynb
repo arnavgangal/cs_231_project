{
 "cells": [
  {
   "cell_type": "code",
   "execution_count": 1,
   "id": "07a0036e",
   "metadata": {},
   "outputs": [],
   "source": [
    "# Imports for the train test val split\n",
    "import os\n",
    "import shutil\n",
    "import random\n",
    "from tqdm import tqdm"
   ]
  },
  {
   "cell_type": "code",
   "execution_count": 2,
   "id": "93ec0c7a",
   "metadata": {},
   "outputs": [],
   "source": [
    "def create_directory_structure(output_dir):\n",
    "    \"\"\"\n",
    "    Creates following dir struct:\n",
    "    output_dir/\n",
    "        train/\n",
    "            grayscale/\n",
    "            color/\n",
    "        val/\n",
    "            grayscale/\n",
    "            color/\n",
    "        test/\n",
    "            grayscale/\n",
    "            color/\n",
    "    \"\"\"\n",
    "    splits = ['train', 'val', 'test']\n",
    "    subdirs = ['grayscale', 'color']\n",
    "    \n",
    "    for split in splits:\n",
    "        for subdir in subdirs:\n",
    "            dir_path = os.path.join(output_dir, split, subdir)\n",
    "            os.makedirs(dir_path, exist_ok=True)"
   ]
  },
  {
   "cell_type": "code",
   "execution_count": 3,
   "id": "d912b9cc",
   "metadata": {},
   "outputs": [],
   "source": [
    "def get_all_files(root_dir):\n",
    "    all_files = []\n",
    "    for subdir, _, files in os.walk(root_dir):\n",
    "        for file in files:\n",
    "            all_files.append(os.path.join(subdir, file))\n",
    "    return all_files"
   ]
  },
  {
   "cell_type": "code",
   "execution_count": 4,
   "id": "aafe7a92",
   "metadata": {},
   "outputs": [],
   "source": [
    "def handle_collision(filepath):\n",
    "    base, extension = os.path.splitext(filepath)\n",
    "    counter = 1\n",
    "    new_filepath = filepath\n",
    "    while os.path.exists(new_filepath):\n",
    "        new_filepath = f\"{base}_{counter}{extension}\"\n",
    "        counter += 1\n",
    "    return new_filepath"
   ]
  },
  {
   "cell_type": "code",
   "execution_count": 5,
   "id": "3c8998e1",
   "metadata": {},
   "outputs": [],
   "source": [
    "def move_files(indices, grayscale_images, color_images, output_dir, split):\n",
    "    os.makedirs(os.path.join(output_dir, split, 'grayscale'), exist_ok=True)\n",
    "    os.makedirs(os.path.join(output_dir, split, 'color'), exist_ok=True)\n",
    "    \n",
    "    for idx in tqdm(indices, desc=f\"Moving {split} files\"):\n",
    "        gray_src = grayscale_images[idx]\n",
    "        color_src = color_images[idx]\n",
    "        \n",
    "        gray_filename = os.path.basename(gray_src)\n",
    "        color_filename = os.path.basename(color_src)\n",
    "\n",
    "        gray_letter = gray_src.split(\"/\")[1]\n",
    "        color_letter = color_src.split(\"/\")[1]\n",
    "\n",
    "        gray_filename = gray_letter + \"_\" + gray_filename\n",
    "        color_filename = color_letter + \"_\" + color_filename\n",
    "        \n",
    "        gray_dst = os.path.join(output_dir, split, 'grayscale', gray_filename)\n",
    "        color_dst = os.path.join(output_dir, split, 'color', color_filename)\n",
    "        \n",
    "        # Handle filename collisions\n",
    "        gray_dst = handle_collision(gray_dst)\n",
    "        color_dst = handle_collision(color_dst)\n",
    "\n",
    "        \n",
    "        shutil.copy2(gray_src, gray_dst)\n",
    "        shutil.copy2(color_src, color_dst)"
   ]
  },
  {
   "cell_type": "code",
   "execution_count": 6,
   "id": "d2b1e54e",
   "metadata": {},
   "outputs": [],
   "source": [
    "def split_data(grayscale_dir, color_dir, output_dir, train_ratio=0.7, val_ratio=0.15):\n",
    "    \"\"\"\n",
    "    Splits:\n",
    "    output_dir/\n",
    "        train/\n",
    "            grayscale/\n",
    "            color/\n",
    "        val/\n",
    "            grayscale/\n",
    "            color/\n",
    "        test/\n",
    "            grayscale/\n",
    "            color/\n",
    "    \"\"\"\n",
    "    grayscale_images = get_all_files(grayscale_dir)\n",
    "    color_images = get_all_files(color_dir)\n",
    "\n",
    "    assert len(grayscale_images) == len(color_images), \"Mismatch in the number of grayscale and color images\"\n",
    "    \n",
    "    indices = list(range(len(grayscale_images)))\n",
    "    random.shuffle(indices)\n",
    "    \n",
    "    # Split\n",
    "    train_split = int(train_ratio * len(indices))\n",
    "    val_split = int((train_ratio + val_ratio) * len(indices))\n",
    "    \n",
    "    train_indices = indices[:train_split]\n",
    "    val_indices = indices[train_split:val_split]\n",
    "    test_indices = indices[val_split:]\n",
    "    \n",
    "    # Move the files\n",
    "    move_files(train_indices, grayscale_images, color_images, output_dir, 'train')\n",
    "    move_files(val_indices, grayscale_images, color_images, output_dir, 'val')\n",
    "    move_files(test_indices, grayscale_images, color_images, output_dir, 'test')"
   ]
  },
  {
   "cell_type": "code",
   "execution_count": 7,
   "id": "4856b25c",
   "metadata": {},
   "outputs": [
    {
     "name": "stderr",
     "output_type": "stream",
     "text": [
      "Moving train files: 100%|██████████████| 133857/133857 [02:55<00:00, 764.86it/s]\n",
      "Moving val files: 100%|██████████████████| 28684/28684 [00:34<00:00, 824.30it/s]\n",
      "Moving test files: 100%|█████████████████| 28684/28684 [00:34<00:00, 820.01it/s]\n"
     ]
    }
   ],
   "source": [
    "create_directory_structure('newdata_dual_data')\n",
    "split_data('newdata_preprocessed_50x50', 'newdata_landmark_preprocessed', 'newdata_dual_data')\n"
   ]
  },
  {
   "cell_type": "code",
   "execution_count": null,
   "id": "b5b7c396-1978-4816-b038-4b9a4481111e",
   "metadata": {},
   "outputs": [],
   "source": []
  }
 ],
 "metadata": {
  "kernelspec": {
   "display_name": "cs224n",
   "language": "python",
   "name": "cs224n"
  },
  "language_info": {
   "codemirror_mode": {
    "name": "ipython",
    "version": 3
   },
   "file_extension": ".py",
   "mimetype": "text/x-python",
   "name": "python",
   "nbconvert_exporter": "python",
   "pygments_lexer": "ipython3",
   "version": "3.12.2"
  }
 },
 "nbformat": 4,
 "nbformat_minor": 5
}
