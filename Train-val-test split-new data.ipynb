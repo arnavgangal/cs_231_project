{
 "cells": [
  {
   "cell_type": "code",
   "execution_count": 1,
   "id": "eaf5c4d3",
   "metadata": {},
   "outputs": [],
   "source": [
    "import os\n",
    "import shutil\n",
    "from sklearn.model_selection import train_test_split\n",
    "import hashlib"
   ]
  },
  {
   "cell_type": "code",
   "execution_count": 2,
   "id": "6e078cdb",
   "metadata": {},
   "outputs": [],
   "source": [
    "def create_directory_structure(base_dir):\n",
    "    for dataset in ['train', 'val', 'test']:\n",
    "        path = os.path.join(base_dir, dataset)\n",
    "        os.makedirs(path, exist_ok=True)"
   ]
  },
  {
   "cell_type": "code",
   "execution_count": 3,
   "id": "e8017d9e",
   "metadata": {},
   "outputs": [],
   "source": [
    "def generate_unique_filename(file_path, target_dir):\n",
    "    file_name, file_ext = os.path.splitext(os.path.basename(file_path))\n",
    "    # create identifier\n",
    "    unique_id = hashlib.md5(file_path.encode()).hexdigest()\n",
    "    unique_filename = f\"{file_name}_{unique_id}{file_ext}\"\n",
    "    return unique_filename"
   ]
  },
  {
   "cell_type": "code",
   "execution_count": 4,
   "id": "ad091d24",
   "metadata": {},
   "outputs": [],
   "source": [
    "# added in letter here \n",
    "def copy_files(file_list, source_base_dir, target_dir):\n",
    "    for file_path in file_list:\n",
    "        source_path = os.path.join(source_base_dir, file_path)\n",
    "        letter = file_path.split(\"/\")[0]\n",
    "        unique_filename = generate_unique_filename(file_path, target_dir)\n",
    "        unique_filename = letter + \"_\" + unique_filename\n",
    "        target_path = os.path.join(target_dir, unique_filename)\n",
    "        shutil.copy2(source_path, target_path)"
   ]
  },
  {
   "cell_type": "code",
   "execution_count": 5,
   "id": "b45e75c2",
   "metadata": {},
   "outputs": [
    {
     "name": "stdout",
     "output_type": "stream",
     "text": [
      "Number of training images: 133856\n",
      "Number of validation images: 28684\n",
      "Number of test images: 28684\n",
      "Data has been split and copied to the train, val, and test directories.\n"
     ]
    }
   ],
   "source": [
    "source_base_dir = 'newdata_preprocessed_50x50/'  \n",
    "target_base_dir = 'new_data_50x50_split/'  \n",
    "\n",
    "create_directory_structure(target_base_dir)\n",
    "\n",
    "# letters in the dataset\n",
    "letters = [chr(i) for i in range(ord('A'), ord('Z') + 1) if chr(i) not in ['J', 'Z']]\n",
    "\n",
    "# Split ratio\n",
    "train_ratio = 0.7\n",
    "val_ratio = 0.15\n",
    "test_ratio = 0.15\n",
    "\n",
    "# Set a random seed for reproducibility\n",
    "random_seed = 231\n",
    "\n",
    "# Collect all file paths\n",
    "file_paths = []\n",
    "for letter in letters:\n",
    "    full_path = os.path.join(source_base_dir, letter)\n",
    "    files = os.listdir(full_path)\n",
    "    file_paths.extend([os.path.join(letter, f) for f in files])\n",
    "\n",
    "# Shuffle and split the data\n",
    "train_paths, test_paths = train_test_split(file_paths, test_size=(1 - train_ratio), random_state=random_seed)\n",
    "val_paths, test_paths = train_test_split(test_paths, test_size=(test_ratio / (val_ratio + test_ratio)), random_state=random_seed)\n",
    "\n",
    "# Copy the files to directories\n",
    "copy_files(train_paths, source_base_dir, os.path.join(target_base_dir, 'train'))\n",
    "copy_files(val_paths, source_base_dir, os.path.join(target_base_dir, 'val'))\n",
    "copy_files(test_paths, source_base_dir, os.path.join(target_base_dir, 'test'))\n",
    "\n",
    "# Print the sizes of each split\n",
    "print(f\"Number of training images: {len(train_paths)}\")\n",
    "print(f\"Number of validation images: {len(val_paths)}\")\n",
    "print(f\"Number of test images: {len(test_paths)}\")\n",
    "\n",
    "print(\"Data has been split and copied to the train, val, and test directories.\")"
   ]
  },
  {
   "cell_type": "code",
   "execution_count": null,
   "id": "25a115de-f18d-4942-8878-bbb0fa44c3e5",
   "metadata": {},
   "outputs": [],
   "source": []
  }
 ],
 "metadata": {
  "kernelspec": {
   "display_name": "cs224n",
   "language": "python",
   "name": "cs224n"
  },
  "language_info": {
   "codemirror_mode": {
    "name": "ipython",
    "version": 3
   },
   "file_extension": ".py",
   "mimetype": "text/x-python",
   "name": "python",
   "nbconvert_exporter": "python",
   "pygments_lexer": "ipython3",
   "version": "3.12.2"
  }
 },
 "nbformat": 4,
 "nbformat_minor": 5
}
