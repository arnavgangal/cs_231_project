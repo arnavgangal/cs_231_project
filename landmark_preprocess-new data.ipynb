{
 "cells": [
  {
   "cell_type": "code",
   "execution_count": 1,
   "id": "3d7ed0db",
   "metadata": {},
   "outputs": [],
   "source": [
    "import os\n",
    "from PIL import Image, ImageFilter\n",
    "import numpy as np"
   ]
  },
  {
   "cell_type": "code",
   "execution_count": 2,
   "id": "079f3c5a",
   "metadata": {},
   "outputs": [],
   "source": [
    "def preprocess_image(image_path):\n",
    "    image = Image.open(image_path)\n",
    "    resized_image = image.resize((224, 224))\n",
    "    normalized_image = np.array(resized_image) / 255.0\n",
    "    return Image.fromarray((normalized_image * 255).astype(np.uint8))"
   ]
  },
  {
   "cell_type": "code",
   "execution_count": 3,
   "id": "fe174987",
   "metadata": {},
   "outputs": [],
   "source": [
    "def process_directory(input_dir, output_dir):\n",
    "    for root, _, files in os.walk(input_dir):\n",
    "        for file in files:\n",
    "            if file.lower().endswith(('.png', '.jpg', '.jpeg', '.tiff', '.bmp', '.gif')):\n",
    "                file_path = os.path.join(root, file)\n",
    "                \n",
    "                relative_path = os.path.relpath(root, input_dir)\n",
    "                output_path = os.path.join(output_dir, relative_path, file)\n",
    "                \n",
    "                os.makedirs(os.path.dirname(output_path), exist_ok=True)\n",
    "                \n",
    "                # Preprocess and save \n",
    "                try:\n",
    "                    processed_image = preprocess_image(file_path)\n",
    "                    processed_image.save(output_path)\n",
    "                except Exception as e:\n",
    "                    print(f\"Could not process image {file_path}: {e}\")"
   ]
  },
  {
   "cell_type": "code",
   "execution_count": 4,
   "id": "311bbca5",
   "metadata": {},
   "outputs": [
    {
     "name": "stdout",
     "output_type": "stream",
     "text": [
      "hehehe finished\n"
     ]
    }
   ],
   "source": [
    "input_directory = 'ASL_Alphabet_Dataset/asl_alphabet_train/'\n",
    "output_directory = 'newdata_landmark_preprocessed'\n",
    "process_directory(input_directory, output_directory)\n",
    "print(\"hehehe finished\")"
   ]
  },
  {
   "cell_type": "code",
   "execution_count": null,
   "id": "25f62979-686e-4865-8deb-c20dfba0fd5e",
   "metadata": {},
   "outputs": [],
   "source": []
  }
 ],
 "metadata": {
  "kernelspec": {
   "display_name": "cs224n",
   "language": "python",
   "name": "cs224n"
  },
  "language_info": {
   "codemirror_mode": {
    "name": "ipython",
    "version": 3
   },
   "file_extension": ".py",
   "mimetype": "text/x-python",
   "name": "python",
   "nbconvert_exporter": "python",
   "pygments_lexer": "ipython3",
   "version": "3.12.2"
  }
 },
 "nbformat": 4,
 "nbformat_minor": 5
}
