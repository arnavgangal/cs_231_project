{
 "cells": [
  {
   "cell_type": "code",
   "execution_count": 1,
   "id": "14c36778",
   "metadata": {},
   "outputs": [],
   "source": [
    "import os\n",
    "from PIL import Image, ImageFilter\n",
    "import numpy as np"
   ]
  },
  {
   "cell_type": "code",
   "execution_count": 2,
   "id": "c42fd108",
   "metadata": {},
   "outputs": [],
   "source": [
    "def get_image_size(image_path):\n",
    "    with Image.open(image_path) as img:\n",
    "        return img.size"
   ]
  },
  {
   "cell_type": "code",
   "execution_count": 3,
   "id": "dc9420a9",
   "metadata": {},
   "outputs": [],
   "source": [
    "def check_image_sizes(directory, output_file):\n",
    "    image_sizes = {}\n",
    "    for root, _, files in os.walk(directory):\n",
    "        for file in files:\n",
    "            if file.lower().endswith(('.png', '.jpg', '.jpeg', '.tiff', '.bmp', '.gif')):\n",
    "                file_path = os.path.join(root, file)\n",
    "                try:\n",
    "                    size = get_image_size(file_path)\n",
    "                    if size in image_sizes:\n",
    "                        image_sizes[size].append(file_path)\n",
    "                    else:\n",
    "                        image_sizes[size] = [file_path]\n",
    "                except Exception as e:\n",
    "                    print(f\"Could not process image {file_path}: {e}\", file=output_file)\n",
    "\n",
    "    if len(image_sizes) == 1:\n",
    "        print(\"All images are the same size.\", file=output_file)\n",
    "    else:\n",
    "        print(\"Images have different sizes.\", file=output_file)\n",
    "        for size, paths in image_sizes.items():\n",
    "            print(f\"Size {size}: {len(paths)} images\", file=output_file)"
   ]
  },
  {
   "cell_type": "code",
   "execution_count": 4,
   "id": "ab600ec7",
   "metadata": {},
   "outputs": [
    {
     "name": "stdout",
     "output_type": "stream",
     "text": [
      "Results written to imagesizes.txt\n"
     ]
    }
   ],
   "source": [
    "# Info text file on the different image sizes in the raw dataset\n",
    "directory = 'dataset5/'\n",
    "output_file_path = 'imagesizes.txt'\n",
    "\n",
    "with open(output_file_path, 'w') as output_file:\n",
    "    check_image_sizes(directory, output_file)\n",
    "\n",
    "print(f\"Results written to {output_file_path}\")"
   ]
  },
  {
   "cell_type": "code",
   "execution_count": 5,
   "id": "06ddc2f8",
   "metadata": {},
   "outputs": [],
   "source": [
    "def apply_custom_sharpen(image):\n",
    "    \"\"\"\n",
    "    Applies a custom sharpening filter to an image - filter taken from paper\n",
    "\n",
    "    Args:\n",
    "        image (Image): The input image.\n",
    "\n",
    "    Returns:\n",
    "        Image: The sharpened image.\n",
    "    \"\"\"\n",
    "    # Define a 3x3 sharpening kernel\n",
    "    kernel = [\n",
    "        0, -1, 0,\n",
    "        -1, 6, -1,\n",
    "        0, -1, 0\n",
    "    ]\n",
    "    # Apply the kernel to the image\n",
    "    sharpened_image = image.filter(ImageFilter.Kernel((3, 3), kernel, scale=1, offset=0))\n",
    "    return sharpened_image"
   ]
  },
  {
   "cell_type": "code",
   "execution_count": 6,
   "id": "d557e260",
   "metadata": {},
   "outputs": [],
   "source": [
    "def preprocess_image(image_path):\n",
    "    \"\"\"\n",
    "    Preprocesses an image by converting it to grayscale, applying a custom sharpening filter,\n",
    "    resizing it to 50x50 pixels, and normalizing the pixel values to the range [0, 1].\n",
    "\n",
    "    Args:\n",
    "        image_path (str): Path to the input image.\n",
    "\n",
    "    Returns:\n",
    "        Image: The preprocessed image.\n",
    "    \"\"\"\n",
    "    # Open image and convert to grayscale\n",
    "    image = Image.open(image_path).convert('L')\n",
    "    \n",
    "    # Resize the image to 50x50 pixels\n",
    "    resized_image = image.resize((50, 50))\n",
    "    \n",
    "    # Apply the custom sharpening filter\n",
    "    sharpened_image = apply_custom_sharpen(resized_image)\n",
    "    \n",
    "    # Normalize the pixel values to the range [0, 1]\n",
    "    normalized_image = np.array(sharpened_image) / 255.0\n",
    "    \n",
    "    # Convert back to an image format\n",
    "    return Image.fromarray((normalized_image * 255).astype(np.uint8))"
   ]
  },
  {
   "cell_type": "code",
   "execution_count": 7,
   "id": "075923fb",
   "metadata": {},
   "outputs": [],
   "source": [
    "def process_directory(input_dir, output_dir):\n",
    "    \"\"\"\n",
    "    Processes all color images in the specified directory and its subdirectories,\n",
    "    applying the preprocessing steps and saving the results to the output directory,\n",
    "    maintaining the original directory structure.\n",
    "\n",
    "    Args:\n",
    "        input_dir (str): Path to the input directory containing images.\n",
    "        output_dir (str): Path to the output directory where preprocessed images will be saved.\n",
    "    \"\"\"\n",
    "    for root, _, files in os.walk(input_dir):\n",
    "        for file in files:\n",
    "            # Process only color images with specified file extensions\n",
    "            if file.lower().startswith('color') and file.lower().endswith(('.png', '.jpg', '.jpeg', '.tiff', '.bmp', '.gif')):\n",
    "                file_path = os.path.join(root, file)\n",
    "                \n",
    "                # Determine the new file path in the output directory\n",
    "                relative_path = os.path.relpath(root, input_dir)\n",
    "                output_path = os.path.join(output_dir, relative_path, file)\n",
    "                \n",
    "                # Ensure the output directory exists\n",
    "                os.makedirs(os.path.dirname(output_path), exist_ok=True)\n",
    "                \n",
    "                # Preprocess and save the image\n",
    "                try:\n",
    "                    processed_image = preprocess_image(file_path)\n",
    "                    processed_image.save(output_path)\n",
    "                except Exception as e:\n",
    "                    print(f\"Could not process image {file_path}: {e}\")"
   ]
  },
  {
   "cell_type": "code",
   "execution_count": 8,
   "id": "6fe47aac",
   "metadata": {},
   "outputs": [],
   "source": [
    "input_directory = 'dataset5'\n",
    "output_directory = 'dataset5_preprocessed_50x50'\n",
    "process_directory(input_directory, output_directory)\n",
    "print(\"hehehe finished\")"
   ]
  }
 ],
 "metadata": {
  "kernelspec": {
   "display_name": "cs224n",
   "language": "python",
   "name": "cs224n"
  },
  "language_info": {
   "codemirror_mode": {
    "name": "ipython",
    "version": 3
   },
   "file_extension": ".py",
   "mimetype": "text/x-python",
   "name": "python",
   "nbconvert_exporter": "python",
   "pygments_lexer": "ipython3",
   "version": "3.12.2"
  }
 },
 "nbformat": 4,
 "nbformat_minor": 5
}
