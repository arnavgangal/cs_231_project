{
 "cells": [
  {
   "cell_type": "code",
   "execution_count": 49,
   "id": "14c36778",
   "metadata": {
    "ExecuteTime": {
     "end_time": "2024-06-02T04:53:12.989995Z",
     "start_time": "2024-06-02T04:53:12.963799Z"
    }
   },
   "outputs": [],
   "source": [
    "import os\n",
    "from PIL import Image, ImageFilter, ImageOps\n",
    "import numpy as np\n",
    "import random"
   ]
  },
  {
   "cell_type": "code",
   "execution_count": 50,
   "id": "c42fd108",
   "metadata": {
    "ExecuteTime": {
     "end_time": "2024-06-02T04:53:13.133977Z",
     "start_time": "2024-06-02T04:53:13.123903Z"
    }
   },
   "outputs": [],
   "source": [
    "def get_image_size(image_path):\n",
    "    with Image.open(image_path) as img:\n",
    "        return img.size"
   ]
  },
  {
   "cell_type": "code",
   "execution_count": 51,
   "id": "dc9420a9",
   "metadata": {
    "ExecuteTime": {
     "end_time": "2024-06-02T04:53:13.295285Z",
     "start_time": "2024-06-02T04:53:13.286431Z"
    }
   },
   "outputs": [],
   "source": [
    "def check_image_sizes(directory, output_file):\n",
    "    image_sizes = {}\n",
    "    for root, _, files in os.walk(directory):\n",
    "        for file in files:\n",
    "            if file.lower().endswith(('.png', '.jpg', '.jpeg', '.tiff', '.bmp', '.gif')):\n",
    "                file_path = os.path.join(root, file)\n",
    "                try:\n",
    "                    size = get_image_size(file_path)\n",
    "                    if size in image_sizes:\n",
    "                        image_sizes[size].append(file_path)\n",
    "                    else:\n",
    "                        image_sizes[size] = [file_path]\n",
    "                except Exception as e:\n",
    "                    print(f\"Could not process image {file_path}: {e}\", file=output_file)\n",
    "\n",
    "    if len(image_sizes) == 1:\n",
    "        print(\"All images are the same size.\", file=output_file)\n",
    "    else:\n",
    "        print(\"Images have different sizes.\", file=output_file)\n",
    "        for size, paths in image_sizes.items():\n",
    "            print(f\"Size {size}: {len(paths)} images\", file=output_file)"
   ]
  },
  {
   "cell_type": "code",
   "execution_count": 52,
   "id": "ab600ec7",
   "metadata": {
    "ExecuteTime": {
     "end_time": "2024-06-02T04:53:28.551813Z",
     "start_time": "2024-06-02T04:53:13.455227Z"
    }
   },
   "outputs": [
    {
     "name": "stdout",
     "output_type": "stream",
     "text": [
      "Results written to imagesizes.txt\n"
     ]
    }
   ],
   "source": [
    "# Info text file on the different image sizes in the raw dataset\n",
    "directory = 'dataset5/'\n",
    "output_file_path = 'imagesizes.txt'\n",
    "\n",
    "with open(output_file_path, 'w') as output_file:\n",
    "    check_image_sizes(directory, output_file)\n",
    "\n",
    "print(f\"Results written to {output_file_path}\")"
   ]
  },
  {
   "cell_type": "code",
   "execution_count": 53,
   "id": "06ddc2f8",
   "metadata": {
    "ExecuteTime": {
     "end_time": "2024-06-02T04:53:28.551995Z",
     "start_time": "2024-06-02T04:53:28.550730Z"
    }
   },
   "outputs": [],
   "source": [
    "def apply_custom_sharpen(image):\n",
    "    kernel = [\n",
    "        0, -1, 0,\n",
    "        -1, 6, -1,\n",
    "        0, -1, 0\n",
    "    ]\n",
    "    # Apply the kernel to the image\n",
    "    sharpened_image = image.filter(ImageFilter.Kernel((3, 3), kernel, scale=1, offset=0))\n",
    "    return sharpened_image"
   ]
  },
  {
   "cell_type": "code",
   "execution_count": 54,
   "id": "6cfac7c651a84b37",
   "metadata": {
    "ExecuteTime": {
     "end_time": "2024-06-02T04:53:28.564185Z",
     "start_time": "2024-06-02T04:53:28.554319Z"
    }
   },
   "outputs": [],
   "source": [
    "def add_salt_and_pepper_noise(image, amount=0.05, salt_vs_pepper=0.5):\n",
    "    image_array = np.array(image)\n",
    "    row, col = image_array.shape\n",
    "    num_salt = np.ceil(amount * image_array.size * salt_vs_pepper)\n",
    "    num_pepper = np.ceil(amount * image_array.size * (1.0 - salt_vs_pepper))\n",
    "\n",
    "    # salt\n",
    "    coords = [np.random.randint(0, i - 1, int(num_salt)) for i in image_array.shape]\n",
    "    image_array[coords[0], coords[1]] = 1\n",
    "\n",
    "    # pepper\n",
    "    coords = [np.random.randint(0, i - 1, int(num_pepper)) for i in image_array.shape]\n",
    "    image_array[coords[0], coords[1]] = 0\n",
    "\n",
    "    return Image.fromarray(image_array)"
   ]
  },
  {
   "cell_type": "code",
   "execution_count": 55,
   "id": "9895b87ae6ff2325",
   "metadata": {
    "ExecuteTime": {
     "end_time": "2024-06-02T04:53:28.564389Z",
     "start_time": "2024-06-02T04:53:28.556374Z"
    }
   },
   "outputs": [],
   "source": [
    "def random_rotation(image, angle_range=(-10, 10)):\n",
    "    angle = random.uniform(angle_range[0], angle_range[1])\n",
    "    return image.rotate(angle)"
   ]
  },
  {
   "cell_type": "code",
   "execution_count": 56,
   "id": "46b5e72d8ad801d7",
   "metadata": {
    "ExecuteTime": {
     "end_time": "2024-06-02T04:53:28.564462Z",
     "start_time": "2024-06-02T04:53:28.557944Z"
    }
   },
   "outputs": [],
   "source": [
    "def random_zoom(image, zoom_range=(0.9, 1.1)):\n",
    "    zoom_factor = random.uniform(zoom_range[0], zoom_range[1])\n",
    "    width, height = image.size\n",
    "    new_width, new_height = int(width * zoom_factor), int(height * zoom_factor)\n",
    "    image = image.resize((new_width, new_height), Image.LANCZOS)\n",
    "    if zoom_factor < 1:\n",
    "        pad_width = (width - new_width) // 2\n",
    "        pad_height = (height - new_height) // 2\n",
    "        image = ImageOps.expand(image, (pad_width, pad_height, width - new_width - pad_width, height - new_height - pad_height), fill=0)\n",
    "    else:\n",
    "        left = (new_width - width) // 2\n",
    "        top = (new_height - height) // 2\n",
    "        image = image.crop((left, top, left + width, top + height))\n",
    "    return image"
   ]
  },
  {
   "cell_type": "code",
   "execution_count": 57,
   "id": "9a67e53723ebc23b",
   "metadata": {
    "ExecuteTime": {
     "end_time": "2024-06-02T04:53:28.564543Z",
     "start_time": "2024-06-02T04:53:28.561048Z"
    }
   },
   "outputs": [],
   "source": [
    "def random_shift(image, width_shift_range=0.1, height_shift_range=0.1):\n",
    "    width, height = image.size\n",
    "    max_width_shift = int(width * width_shift_range)\n",
    "    max_height_shift = int(height * height_shift_range)\n",
    "    width_shift = random.randint(-max_width_shift, max_width_shift)\n",
    "    height_shift = random.randint(-max_height_shift, max_height_shift)\n",
    "    return image.transform(image.size, Image.AFFINE, (1, 0, width_shift, 0, 1, height_shift), resample=Image.BICUBIC)\n"
   ]
  },
  {
   "cell_type": "code",
   "execution_count": 58,
   "id": "a6e6f722681f3f95",
   "metadata": {
    "ExecuteTime": {
     "end_time": "2024-06-02T04:53:28.564881Z",
     "start_time": "2024-06-02T04:53:28.562908Z"
    }
   },
   "outputs": [],
   "source": [
    "def random_horizontal_flip(image):\n",
    "    if random.random() < 0.5:\n",
    "        image = ImageOps.mirror(image)\n",
    "    return image"
   ]
  },
  {
   "cell_type": "code",
   "execution_count": 59,
   "id": "64d36ad7963a787a",
   "metadata": {
    "ExecuteTime": {
     "end_time": "2024-06-02T04:53:28.567901Z",
     "start_time": "2024-06-02T04:53:28.564574Z"
    }
   },
   "outputs": [],
   "source": [
    "def random_crop(image, crop_size=(50, 50)):\n",
    "    width, height = image.size\n",
    "    new_width, new_height = crop_size\n",
    "    left = random.randint(0, width - new_width)\n",
    "    top = random.randint(0, height - new_height)\n",
    "    return image.crop((left, top, left + new_width, top + new_height))"
   ]
  },
  {
   "cell_type": "code",
   "execution_count": 60,
   "id": "d557e260",
   "metadata": {
    "ExecuteTime": {
     "end_time": "2024-06-02T04:53:28.570079Z",
     "start_time": "2024-06-02T04:53:28.568111Z"
    }
   },
   "outputs": [],
   "source": [
    "def preprocess_image(image_path):\n",
    "    image = Image.open(image_path).convert('L')\n",
    "    \n",
    "    image = random_rotation(image)\n",
    "    image = random_zoom(image)\n",
    "    image = random_shift(image)\n",
    "    image = random_horizontal_flip(image)\n",
    "    \n",
    "    resized_image = image.resize((50, 50))\n",
    "    \n",
    "    sharpened_image = apply_custom_sharpen(resized_image)\n",
    "    \n",
    "    noisy_image = add_salt_and_pepper_noise(sharpened_image)\n",
    "    \n",
    "    normalized_image = np.array(noisy_image) / 255.0\n",
    "    \n",
    "    return Image.fromarray((normalized_image * 255).astype(np.uint8))"
   ]
  },
  {
   "cell_type": "code",
   "execution_count": 61,
   "id": "075923fb",
   "metadata": {
    "ExecuteTime": {
     "end_time": "2024-06-02T04:53:28.587615Z",
     "start_time": "2024-06-02T04:53:28.571576Z"
    }
   },
   "outputs": [],
   "source": [
    "def process_directory(input_dir, output_dir):\n",
    "    for root, _, files in os.walk(input_dir):\n",
    "        for file in files:\n",
    "            if file.lower().startswith('color') and file.lower().endswith(('.png', '.jpg', '.jpeg', '.tiff', '.bmp', '.gif')):\n",
    "                file_path = os.path.join(root, file)\n",
    "                \n",
    "                relative_path = os.path.relpath(root, input_dir)\n",
    "                output_path = os.path.join(output_dir, relative_path, file)\n",
    "                \n",
    "                os.makedirs(os.path.dirname(output_path), exist_ok=True)\n",
    "                \n",
    "                # Preprocess and save \n",
    "                try:\n",
    "                    processed_image = preprocess_image(file_path)\n",
    "                    processed_image.save(output_path)\n",
    "                except Exception as e:\n",
    "                    print(f\"Could not process image {file_path}: {e}\")"
   ]
  },
  {
   "cell_type": "code",
   "execution_count": 62,
   "id": "6fe47aac",
   "metadata": {
    "ExecuteTime": {
     "end_time": "2024-06-02T04:54:55.032951Z",
     "start_time": "2024-06-02T04:53:28.573354Z"
    }
   },
   "outputs": [
    {
     "name": "stdout",
     "output_type": "stream",
     "text": [
      "hehehe finished\n"
     ]
    }
   ],
   "source": [
    "input_directory = 'dataset5'\n",
    "output_directory = 'dataset5_preprocessed_50x50'\n",
    "process_directory(input_directory, output_directory)\n",
    "print(\"hehehe finished\")"
   ]
  },
  {
   "cell_type": "code",
   "execution_count": null,
   "id": "48d5f2a6a8fb7ff9",
   "metadata": {},
   "outputs": [],
   "source": []
  }
 ],
 "metadata": {
  "kernelspec": {
   "display_name": "cs224n",
   "language": "python",
   "name": "cs224n"
  },
  "language_info": {
   "codemirror_mode": {
    "name": "ipython",
    "version": 3
   },
   "file_extension": ".py",
   "mimetype": "text/x-python",
   "name": "python",
   "nbconvert_exporter": "python",
   "pygments_lexer": "ipython3",
   "version": "3.12.2"
  }
 },
 "nbformat": 4,
 "nbformat_minor": 5
}
